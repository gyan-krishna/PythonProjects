{
 "cells": [
  {
   "cell_type": "markdown",
   "id": "86ff9de6-defa-45b4-b9ab-6fe8be409379",
   "metadata": {},
   "source": [
    "# Mongodb Intro"
   ]
  },
  {
   "cell_type": "code",
   "execution_count": 2,
   "id": "d58cee62-0feb-470e-b69c-b976a67a1134",
   "metadata": {},
   "outputs": [
    {
     "name": "stdout",
     "output_type": "stream",
     "text": [
      "Collecting pymongo\n",
      "  Downloading pymongo-4.1.1-cp39-cp39-win_amd64.whl (365 kB)\n",
      "Installing collected packages: pymongo\n",
      "Successfully installed pymongo-4.1.1\n"
     ]
    }
   ],
   "source": [
    "!pip install pymongo"
   ]
  },
  {
   "cell_type": "code",
   "execution_count": 3,
   "id": "1d107106-427d-4f4a-a5c9-7ee96a545130",
   "metadata": {},
   "outputs": [],
   "source": [
    "import pymongo"
   ]
  },
  {
   "cell_type": "code",
   "execution_count": 4,
   "id": "36d4aad8-5113-4108-870d-df5df69be13c",
   "metadata": {},
   "outputs": [],
   "source": [
    "myclient = pymongo.MongoClient(\"mongodb://localhost:27017/\")\n",
    "\n",
    "mydb = myclient[\"mydatabase\"]"
   ]
  },
  {
   "cell_type": "code",
   "execution_count": null,
   "id": "af0660a8-bee1-4308-9b57-c43a3d70aa64",
   "metadata": {},
   "outputs": [],
   "source": []
  },
  {
   "cell_type": "code",
   "execution_count": null,
   "id": "cd286b17-c525-4b14-93f6-f5e1ada000c4",
   "metadata": {},
   "outputs": [],
   "source": []
  }
 ],
 "metadata": {
  "kernelspec": {
   "display_name": "Python 3 (ipykernel)",
   "language": "python",
   "name": "python3"
  },
  "language_info": {
   "codemirror_mode": {
    "name": "ipython",
    "version": 3
   },
   "file_extension": ".py",
   "mimetype": "text/x-python",
   "name": "python",
   "nbconvert_exporter": "python",
   "pygments_lexer": "ipython3",
   "version": "3.9.12"
  }
 },
 "nbformat": 4,
 "nbformat_minor": 5
}
