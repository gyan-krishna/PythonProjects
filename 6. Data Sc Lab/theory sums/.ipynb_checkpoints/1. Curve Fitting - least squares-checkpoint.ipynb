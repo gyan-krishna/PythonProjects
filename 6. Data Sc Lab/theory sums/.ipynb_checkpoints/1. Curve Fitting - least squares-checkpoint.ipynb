{
 "cells": [
  {
   "cell_type": "markdown",
   "id": "d3cee04b-7776-4dec-a214-cdf6b5bf687f",
   "metadata": {},
   "source": [
    "# Curve Fitting - Method of least squares"
   ]
  },
  {
   "cell_type": "code",
   "execution_count": 143,
   "id": "e02b7660-c4be-467a-9d0b-43c3213f8967",
   "metadata": {},
   "outputs": [
    {
     "name": "stdout",
     "output_type": "stream",
     "text": [
      "Requirement already satisfied: numpy in c:\\users\\gyank\\anaconda3\\lib\\site-packages (1.21.5)\n",
      "Requirement already satisfied: matplotlib in c:\\users\\gyank\\anaconda3\\lib\\site-packages (3.5.1)\n",
      "Requirement already satisfied: python-dateutil>=2.7 in c:\\users\\gyank\\anaconda3\\lib\\site-packages (from matplotlib) (2.8.2)\n",
      "Requirement already satisfied: packaging>=20.0 in c:\\users\\gyank\\anaconda3\\lib\\site-packages (from matplotlib) (21.3)\n",
      "Requirement already satisfied: cycler>=0.10 in c:\\users\\gyank\\anaconda3\\lib\\site-packages (from matplotlib) (0.11.0)\n",
      "Requirement already satisfied: fonttools>=4.22.0 in c:\\users\\gyank\\anaconda3\\lib\\site-packages (from matplotlib) (4.25.0)\n",
      "Requirement already satisfied: pillow>=6.2.0 in c:\\users\\gyank\\anaconda3\\lib\\site-packages (from matplotlib) (9.0.1)\n",
      "Requirement already satisfied: pyparsing>=2.2.1 in c:\\users\\gyank\\anaconda3\\lib\\site-packages (from matplotlib) (3.0.4)\n",
      "Requirement already satisfied: kiwisolver>=1.0.1 in c:\\users\\gyank\\anaconda3\\lib\\site-packages (from matplotlib) (1.3.2)\n",
      "Requirement already satisfied: numpy>=1.17 in c:\\users\\gyank\\anaconda3\\lib\\site-packages (from matplotlib) (1.21.5)\n",
      "Requirement already satisfied: six>=1.5 in c:\\users\\gyank\\anaconda3\\lib\\site-packages (from python-dateutil>=2.7->matplotlib) (1.16.0)\n"
     ]
    }
   ],
   "source": [
    "!pip install numpy\n",
    "!pip install matplotlib"
   ]
  },
  {
   "cell_type": "code",
   "execution_count": 144,
   "id": "c2fe4cc6-ece0-4120-a2e2-a867c1f7f206",
   "metadata": {},
   "outputs": [],
   "source": [
    "import numpy as np\n",
    "import matplotlib.pyplot as plt"
   ]
  },
  {
   "cell_type": "code",
   "execution_count": 145,
   "id": "faeabda4-f235-47a7-9a73-c27be06de165",
   "metadata": {},
   "outputs": [],
   "source": [
    "x_data = np.array([10, 12, 13, 16, 17, 20, 25])\n",
    "y_data = np.array([19, 22, 24, 27, 29, 33, 37])"
   ]
  },
  {
   "cell_type": "code",
   "execution_count": 146,
   "id": "ebeecc71-b9ff-49a2-b415-5ab39e5e140b",
   "metadata": {},
   "outputs": [
    {
     "data": {
      "text/plain": [
       "[<matplotlib.lines.Line2D at 0x2029959c730>]"
      ]
     },
     "execution_count": 146,
     "metadata": {},
     "output_type": "execute_result"
    },
    {
     "data": {
      "image/png": "[encoded data removed]",
      "text/plain": [
       "<Figure size 432x288 with 1 Axes>"
      ]
     },
     "metadata": {
      "needs_background": "light"
     },
     "output_type": "display_data"
    }
   ],
   "source": [
    "fig = plt.figure()\n",
    "ax = fig.add_subplot(111)\n",
    "ax.set(title=\"sample data\", xlabel=\"x\", ylabel=\"y\")\n",
    "ax.plot(x_data, y_data, 'o--')"
   ]
  },
  {
   "cell_type": "markdown",
   "id": "08a3ca5f-bc6b-4bb8-aa78-1450fa727109",
   "metadata": {},
   "source": [
    "## Adddding correction to x data to simplify the calculation"
   ]
  },
  {
   "cell_type": "code",
   "execution_count": 147,
   "id": "ee766b3c-1cf9-4a46-94c4-ff3f18787614",
   "metadata": {},
   "outputs": [],
   "source": [
    "x_mean = x_data.mean()\n",
    "corr_factor = 0#round(x_mean)\n",
    "x_corr = x_data - corr_factor"
   ]
  },
  {
   "cell_type": "code",
   "execution_count": 148,
   "id": "e25e38d7-4f1a-4700-9281-f60c58a4c109",
   "metadata": {},
   "outputs": [],
   "source": [
    "xy = []\n",
    "x_sq = []\n",
    "for i, x in enumerate(x_corr):\n",
    "    x_sq.append(x**2)\n",
    "    xy.append(x * y_data[i])\n",
    "\n",
    "xy = np.array(xy)\n",
    "x_sq = np.array(x_sq)\n",
    "\n",
    "x_sum = x_corr.sum()\n",
    "y_sum = y_data.sum()\n",
    "xy_sum = xy.sum()\n",
    "x_sq_sum = x_sq.sum()\n",
    "n = len(x_data)"
   ]
  },
  {
   "cell_type": "code",
   "execution_count": 149,
   "id": "76b613ab-1511-4967-9525-1b632c481954",
   "metadata": {},
   "outputs": [
    {
     "name": "stdout",
     "output_type": "stream",
     "text": [
      "x        |  y        | xy       | s_sq    \n",
      "\n",
      "10       |  19       | 190      | 100     \n",
      "12       |  22       | 264      | 144     \n",
      "13       |  24       | 312      | 169     \n",
      "16       |  27       | 432      | 256     \n",
      "17       |  29       | 493      | 289     \n",
      "20       |  33       | 660      | 400     \n",
      "25       |  37       | 925      | 625     \n",
      "-------------------------------------\n",
      "113      |  191      | 3276     | 1983    \n"
     ]
    }
   ],
   "source": [
    "print (\"{:<8} |  {:<8} | {:<8} | {:<8}\".format('x','y','xy', 's_sq', 'x'))\n",
    "print()\n",
    "for i, x in enumerate(x_corr):\n",
    "    print (\"{:<8} |  {:<8} | {:<8} | {:<8}\".format(x, y_data[i], xy[i], x_sq[i]))\n",
    "\n",
    "print(\"-------------------------------------\")\n",
    "print (\"{:<8} |  {:<8} | {:<8} | {:<8}\".format(x_sum, y_sum, xy_sum, x_sq_sum))    "
   ]
  },
  {
   "cell_type": "markdown",
   "id": "3e55c3a3-ff22-4160-8529-d775668caac9",
   "metadata": {},
   "source": [
    "## Calculating the parameters for the straignt line using the formulas:-\n",
    "### Σy = a.n + bΣx \n",
    "### $Σxy = a.Σx + bΣx^2$"
   ]
  },
  {
   "cell_type": "code",
   "execution_count": 150,
   "id": "32bcf15c-bc5d-45d8-9936-75eb852d9b6f",
   "metadata": {},
   "outputs": [
    {
     "name": "stdout",
     "output_type": "stream",
     "text": [
      "a = 7.702338129496403, b = 1.2131294964028778\n"
     ]
    }
   ],
   "source": [
    "eq1 = np.array([y_sum, n, x_sum])  \n",
    "eq2 = np.array([xy_sum, x_sum, x_sq_sum])\n",
    "\n",
    "factor = x_sum/n\n",
    "eq3 = eq1 * factor\n",
    "eq4 = eq3 - eq2\n",
    "\n",
    "b = eq4[0]/eq4[2]\n",
    "a = (eq1[0] - b * eq1[2])/n\n",
    "print(\"a = {}, b = {}\".format(a, b))"
   ]
  },
  {
   "cell_type": "markdown",
   "id": "2a576524-55ca-40d4-907a-60c40680c036",
   "metadata": {
    "tags": []
   },
   "source": [
    "## Predicting the y values using the best fit line"
   ]
  },
  {
   "cell_type": "code",
   "execution_count": 151,
   "id": "b0abdd9e-382b-46dd-92a3-f6f28d9bbc5a",
   "metadata": {},
   "outputs": [
    {
     "name": "stdout",
     "output_type": "stream",
     "text": [
      "[19.833633093525183, 22.259892086330936, 23.473021582733814, 27.11241007194245, 28.325539568345327, 31.964928057553962, 38.030575539568346]\n"
     ]
    }
   ],
   "source": [
    "y_pred = []\n",
    "for i, x in enumerate(x_corr):\n",
    "    y = a + b*(x+corr_factor)\n",
    "    y_pred.append(y)\n",
    "print(y_pred)"
   ]
  },
  {
   "cell_type": "markdown",
   "id": "958cda8c-a4fb-445c-b5fa-31d80bbd2c75",
   "metadata": {},
   "source": [
    "## Plotting the predicted and original data"
   ]
  },
  {
   "cell_type": "code",
   "execution_count": 152,
   "id": "3800476f-26e2-4c0e-b373-77d4c8e6b5d9",
   "metadata": {},
   "outputs": [
    {
     "data": {
      "text/plain": [
       "<matplotlib.legend.Legend at 0x202995cb9a0>"
      ]
     },
     "execution_count": 152,
     "metadata": {},
     "output_type": "execute_result"
    },
    {
     "data": {
      "image/png": "[encoded data removed]",
      "text/plain": [
       "<Figure size 432x288 with 1 Axes>"
      ]
     },
     "metadata": {
      "needs_background": "light"
     },
     "output_type": "display_data"
    }
   ],
   "source": [
    "fig = plt.figure()\n",
    "ax = fig.add_subplot(111)\n",
    "ax.set(title=\"predicted data vs real data\", xlabel=\"x\", ylabel=\"y\")\n",
    "\n",
    "ax.plot(x_data, y_data, 'o--', color = \"blue\", label=\"original data\")\n",
    "ax.plot(x_data, y_pred, 'x--', color = \"red\", label=\"predicted data\")\n",
    "ax.legend(loc='upper left')"
   ]
  },
  {
   "cell_type": "code",
   "execution_count": 154,
   "id": "ad754304-4164-4044-8cb8-dede910d649f",
   "metadata": {},
   "outputs": [
    {
     "name": "stdout",
     "output_type": "stream",
     "text": [
      "x     |  y     | y_pred | diff      | diff_sq\n",
      "---------------------------------------------\n",
      "10    |  19    | 19.834 | -0.834    | 0.69\n",
      "12    |  22    | 22.260 | -0.26     | 0.07\n",
      "13    |  24    | 23.473 | 0.527     | 0.28\n",
      "16    |  27    | 27.112 | -0.112    | 0.01\n",
      "17    |  29    | 28.326 | 0.674     | 0.45\n",
      "20    |  33    | 31.965 | 1.035     | 1.07\n",
      "25    |  37    | 38.031 | -1.031    | 1.06\n"
     ]
    }
   ],
   "source": [
    "print (\"{:<5} |  {:<5} | {:<4} | {:<8}  | {:<4}\".format('x','y','y_pred', 'diff', 'diff_sq'))\n",
    "print(\"---------------------------------------------\")\n",
    "for i, x in enumerate(x_corr):\n",
    "    diff = y_data[i] - y_pred[i]\n",
    "    print (\"{:<5} |  {:<5} | {:0.3f} | {:<8}  | {:<0.2f}\".format(x, y_data[i], y_pred[i], str(round(diff, 3)) , diff**2))"
   ]
  }
 ],
 "metadata": {
  "kernelspec": {
   "display_name": "Python 3 (ipykernel)",
   "language": "python",
   "name": "python3"
  },
  "language_info": {
   "codemirror_mode": {
    "name": "ipython",
    "version": 3
   },
   "file_extension": ".py",
   "mimetype": "text/x-python",
   "name": "python",
   "nbconvert_exporter": "python",
   "pygments_lexer": "ipython3",
   "version": "3.9.12"
  }
 },
 "nbformat": 4,
 "nbformat_minor": 5
}
