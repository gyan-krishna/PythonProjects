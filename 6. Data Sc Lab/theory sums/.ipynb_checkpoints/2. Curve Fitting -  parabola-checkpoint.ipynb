{
 "cells": [
  {
   "cell_type": "markdown",
   "id": "d3cee04b-7776-4dec-a214-cdf6b5bf687f",
   "metadata": {},
   "source": [
    "# Curve Fitting - Method of least squares"
   ]
  },
  {
   "cell_type": "code",
   "execution_count": 143,
   "id": "e02b7660-c4be-467a-9d0b-43c3213f8967",
   "metadata": {},
   "outputs": [
    {
     "name": "stdout",
     "output_type": "stream",
     "text": [
      "Requirement already satisfied: numpy in c:\\users\\gyank\\anaconda3\\lib\\site-packages (1.21.5)\n",
      "Requirement already satisfied: matplotlib in c:\\users\\gyank\\anaconda3\\lib\\site-packages (3.5.1)\n",
      "Requirement already satisfied: python-dateutil>=2.7 in c:\\users\\gyank\\anaconda3\\lib\\site-packages (from matplotlib) (2.8.2)\n",
      "Requirement already satisfied: packaging>=20.0 in c:\\users\\gyank\\anaconda3\\lib\\site-packages (from matplotlib) (21.3)\n",
      "Requirement already satisfied: cycler>=0.10 in c:\\users\\gyank\\anaconda3\\lib\\site-packages (from matplotlib) (0.11.0)\n",
      "Requirement already satisfied: fonttools>=4.22.0 in c:\\users\\gyank\\anaconda3\\lib\\site-packages (from matplotlib) (4.25.0)\n",
      "Requirement already satisfied: pillow>=6.2.0 in c:\\users\\gyank\\anaconda3\\lib\\site-packages (from matplotlib) (9.0.1)\n",
      "Requirement already satisfied: pyparsing>=2.2.1 in c:\\users\\gyank\\anaconda3\\lib\\site-packages (from matplotlib) (3.0.4)\n",
      "Requirement already satisfied: kiwisolver>=1.0.1 in c:\\users\\gyank\\anaconda3\\lib\\site-packages (from matplotlib) (1.3.2)\n",
      "Requirement already satisfied: numpy>=1.17 in c:\\users\\gyank\\anaconda3\\lib\\site-packages (from matplotlib) (1.21.5)\n",
      "Requirement already satisfied: six>=1.5 in c:\\users\\gyank\\anaconda3\\lib\\site-packages (from python-dateutil>=2.7->matplotlib) (1.16.0)\n"
     ]
    }
   ],
   "source": [
    "!pip install numpy\n",
    "!pip install matplotlib"
   ]
  },
  {
   "cell_type": "code",
   "execution_count": 1,
   "id": "c2fe4cc6-ece0-4120-a2e2-a867c1f7f206",
   "metadata": {},
   "outputs": [],
   "source": [
    "import numpy as np\n",
    "import matplotlib.pyplot as plt"
   ]
  },
  {
   "cell_type": "code",
   "execution_count": 2,
   "id": "faeabda4-f235-47a7-9a73-c27be06de165",
   "metadata": {},
   "outputs": [],
   "source": [
    "x_data = np.array( [1, 2, 3, 4, 5] )\n",
    "y_data = np.array( [2.18, 2.44, 2.78, 3.25, 3.83] )"
   ]
  },
  {
   "cell_type": "code",
   "execution_count": 3,
   "id": "ebeecc71-b9ff-49a2-b415-5ab39e5e140b",
   "metadata": {},
   "outputs": [
    {
     "data": {
      "text/plain": [
       "[<matplotlib.lines.Line2D at 0x22814e2ad90>]"
      ]
     },
     "execution_count": 3,
     "metadata": {},
     "output_type": "execute_result"
    },
    {
     "data": {
      "image/png": "[encoded data removed]",
      "text/plain": [
       "<Figure size 432x288 with 1 Axes>"
      ]
     },
     "metadata": {
      "needs_background": "light"
     },
     "output_type": "display_data"
    }
   ],
   "source": [
    "fig = plt.figure()\n",
    "ax = fig.add_subplot(111)\n",
    "ax.set(title=\"sample data\", xlabel=\"x\", ylabel=\"y\")\n",
    "ax.plot(x_data, y_data, 'o--')"
   ]
  },
  {
   "cell_type": "markdown",
   "id": "08a3ca5f-bc6b-4bb8-aa78-1450fa727109",
   "metadata": {},
   "source": [
    "## Adddding correction to x data to simplify the calculation"
   ]
  },
  {
   "cell_type": "code",
   "execution_count": 4,
   "id": "ee766b3c-1cf9-4a46-94c4-ff3f18787614",
   "metadata": {},
   "outputs": [],
   "source": [
    "x_mean = x_data.mean()\n",
    "x_corr_factor = 0#round(x_mean)\n",
    "x_corr = x_data - x_corr_factor\n",
    "\n",
    "y_mean = y_data.mean()\n",
    "y_corr_factor = 0 #round(y_mean)\n",
    "y_corr = y_data - y_corr_factor"
   ]
  },
  {
   "cell_type": "code",
   "execution_count": 6,
   "id": "e25e38d7-4f1a-4700-9281-f60c58a4c109",
   "metadata": {},
   "outputs": [],
   "source": [
    "xy   = []\n",
    "x2   = []\n",
    "x3   = []\n",
    "x4   = []\n",
    "x2y  = []\n",
    "y2   = []\n",
    "\n",
    "for i, x in enumerate(x_corr):\n",
    "    x2.append(x**2)\n",
    "    x3.append(x**3)\n",
    "    x4.append(x**4)\n",
    "    xy.append(x * y_corr[i])\n",
    "    x2y.append(x**2 * y_corr[i])\n",
    "    y2.append(y_corr[i] ** 2)\n",
    "\n",
    "xy  = np.array(xy)\n",
    "x2  = np.array(x2)\n",
    "x3  = np.array(x3)\n",
    "x4  = np.array(x4)\n",
    "x2y = np.array(x2y)\n",
    "y2  = np.array(y2)\n",
    "\n",
    "x_sum   = x_corr.sum()\n",
    "y_sum   = y_data.sum()\n",
    "xy_sum  = xy.sum()\n",
    "x2_sum  = x2.sum()\n",
    "x3_sum  = x3.sum()\n",
    "x4_sum  = x4.sum()\n",
    "x2y_sum = x2y.sum()\n",
    "y2_sum  = y2.sum()\n",
    "\n",
    "n = len(x_data)"
   ]
  },
  {
   "cell_type": "code",
   "execution_count": 15,
   "id": "76b613ab-1511-4967-9525-1b632c481954",
   "metadata": {},
   "outputs": [
    {
     "name": "stdout",
     "output_type": "stream",
     "text": [
      "x        | y        | x_cr     | y_cr     | x^2      | x^3      | x^4      | xy       | x^2y    \n",
      "\n",
      "1        | 2.18     | 1        | 2.18     | 1        | 1        | 1        | 2.18     | 2.18    \n",
      "2        | 2.44     | 2        | 2.44     | 4        | 8        | 16       | 4.88     | 9.76    \n",
      "3        | 2.78     | 3        | 2.78     | 9        | 27       | 81       | 8.34     | 25.02   \n",
      "4        | 3.25     | 4        | 3.25     | 16       | 64       | 256      | 13.0     | 52.0    \n",
      "5        | 3.83     | 5        | 3.83     | 25       | 125      | 625      | 19.15    | 95.75   \n",
      "----------------------------------------------------------------------------------------------\n",
      "                    | 15       | 14.48    | 55       | 225      | 979      | 47.55    | 184.71  \n"
     ]
    }
   ],
   "source": [
    "print (\"{:<8} | {:<8} | {:<8} | {:<8} | {:<8} | {:<8} | {:<8} | {:<8} | {:<8}\".format('x','y', 'x_cr', 'y_cr', 'x^2', 'x^3', 'x^4', 'xy', 'x^2y'))\n",
    "print()\n",
    "for i, x in enumerate(x_corr):\n",
    "    print (\"{:<8} | {:<8} | {:<8} | {:<8} | {:<8} | {:<8} | {:<8} | {:<8} | {:<8}\".format(x_data[i], y_data[i], x, y_corr[i], x2[i], x3[i], x4[i], xy[i], x2y[i]))\n",
    "\n",
    "print(\"----------------------------------------------------------------------------------------------\")\n",
    "print (\"{:<8}   {:<8} | {:<8} | {:<8} | {:<8} | {:<8} | {:<8} | {:<8} | {:<8}\".format(' ', ' ',x_sum, y_sum, x2_sum, x3_sum, x4_sum, xy_sum, x2y_sum))    "
   ]
  },
  {
   "cell_type": "markdown",
   "id": "1b61586c-ad28-4d35-be81-d421552cf9ff",
   "metadata": {},
   "source": [
    "## Calculating the parameters for the parabola using the formulas:-\n",
    "### $Σy = a.n + bΣx + cΣx^2$\n",
    "### $Σxy = a.Σx + bΣx^2 + cΣx^3$\n",
    "### $Σx^2y = a.Σx^2 + bΣx^3 + cΣx^4$"
   ]
  },
  {
   "cell_type": "code",
   "execution_count": 21,
   "id": "17eba402-4a11-4a3a-9f8e-4a837eeed61f",
   "metadata": {},
   "outputs": [
    {
     "name": "stdout",
     "output_type": "stream",
     "text": [
      "[2.048 0.081 0.055]\n"
     ]
    }
   ],
   "source": [
    "eq1 = np.array( [n, x_sum, x2_sum] )\n",
    "eq2 = np.array( [x_sum, x2_sum, x3_sum] )\n",
    "eq3 = np.array( [x2_sum, x3_sum, x4_sum] )\n",
    "eq = np.array([eq1, eq2, eq3])\n",
    "s  = np.array([y_sum, xy_sum, x2y_sum])\n",
    "\n",
    "soln = np.linalg.solve(eq, s)\n",
    "print(soln)"
   ]
  },
  {
   "cell_type": "markdown",
   "id": "898d61ac-c35f-4f61-932f-c5f0f6939233",
   "metadata": {},
   "source": [
    "## Predicting the values"
   ]
  },
  {
   "cell_type": "code",
   "execution_count": 19,
   "id": "8e862c31-5d6b-4f91-b7dc-c7462f5c8fa4",
   "metadata": {},
   "outputs": [
    {
     "name": "stdout",
     "output_type": "stream",
     "text": [
      "[2.1840000000000024, 2.4299999999999993, 2.7859999999999983, 3.2519999999999993, 3.828000000000002]\n"
     ]
    }
   ],
   "source": [
    "y_pred = []\n",
    "for i, x in enumerate(x_corr):\n",
    "    xc = x+x_corr_factor\n",
    "    y = soln[0] + soln[1]*xc + soln[2]*(xc**2) + y_corr_factor\n",
    "    y_pred.append(y)\n",
    "print(y_pred)"
   ]
  },
  {
   "cell_type": "code",
   "execution_count": 20,
   "id": "3800476f-26e2-4c0e-b373-77d4c8e6b5d9",
   "metadata": {},
   "outputs": [
    {
     "data": {
      "text/plain": [
       "<matplotlib.legend.Legend at 0x22814f1c220>"
      ]
     },
     "execution_count": 20,
     "metadata": {},
     "output_type": "execute_result"
    },
    {
     "data": {
      "image/png": "[encoded data removed]",
      "text/plain": [
       "<Figure size 432x288 with 1 Axes>"
      ]
     },
     "metadata": {
      "needs_background": "light"
     },
     "output_type": "display_data"
    }
   ],
   "source": [
    "fig = plt.figure()\n",
    "ax = fig.add_subplot(111)\n",
    "ax.set(title=\"predicted data vs real data\", xlabel=\"x\", ylabel=\"y\")\n",
    "\n",
    "ax.plot(x_data, y_data, 'o--', color = \"blue\", label=\"original data\")\n",
    "ax.plot(x_data, y_pred, 'x--', color = \"red\", label=\"predicted data\")\n",
    "ax.legend(loc='upper left')"
   ]
  },
  {
   "cell_type": "code",
   "execution_count": null,
   "id": "54b211b7-06d7-4839-81a0-9a95231e3a6d",
   "metadata": {},
   "outputs": [],
   "source": []
  },
  {
   "cell_type": "code",
   "execution_count": null,
   "id": "af3bf44b-f668-4e39-99a3-9bd704ba69b1",
   "metadata": {},
   "outputs": [],
   "source": []
  },
  {
   "cell_type": "code",
   "execution_count": null,
   "id": "b4d6c1a2-d37d-4915-9bf1-47f87be32124",
   "metadata": {},
   "outputs": [],
   "source": []
  },
  {
   "cell_type": "code",
   "execution_count": null,
   "id": "ca962c54-fc19-4d90-bf44-4df9c8a73cf9",
   "metadata": {},
   "outputs": [],
   "source": []
  },
  {
   "cell_type": "code",
   "execution_count": 23,
   "id": "ad754304-4164-4044-8cb8-dede910d649f",
   "metadata": {},
   "outputs": [
    {
     "name": "stdout",
     "output_type": "stream",
     "text": [
      "x     |  y     | y_pred | diff      | diff_sq\n",
      "---------------------------------------------\n",
      "1     |  2.18  | 2.184 | -0.004    | 0.00\n",
      "2     |  2.44  | 2.430 | 0.01      | 0.00\n",
      "3     |  2.78  | 2.786 | -0.006    | 0.00\n",
      "4     |  3.25  | 3.252 | -0.002    | 0.00\n",
      "5     |  3.83  | 3.828 | 0.002     | 0.00\n"
     ]
    }
   ],
   "source": [
    "print (\"{:<5} |  {:<5} | {:<4} | {:<8}  | {:<4}\".format('x','y','y_pred', 'diff', 'diff_sq'))\n",
    "print(\"---------------------------------------------\")\n",
    "for i, x in enumerate(x_corr):\n",
    "    diff = y_data[i] - y_pred[i]\n",
    "    print (\"{:<5} |  {:<5} | {:0.3f} | {:<8}  | {:<0.2f}\".format(x, y_data[i], y_pred[i], str(round(diff, 3)) , diff**2))"
   ]
  }
 ],
 "metadata": {
  "kernelspec": {
   "display_name": "Python 3 (ipykernel)",
   "language": "python",
   "name": "python3"
  },
  "language_info": {
   "codemirror_mode": {
    "name": "ipython",
    "version": 3
   },
   "file_extension": ".py",
   "mimetype": "text/x-python",
   "name": "python",
   "nbconvert_exporter": "python",
   "pygments_lexer": "ipython3",
   "version": "3.9.12"
  }
 },
 "nbformat": 4,
 "nbformat_minor": 5
}
