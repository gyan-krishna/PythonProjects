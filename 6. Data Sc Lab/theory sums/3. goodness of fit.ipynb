{
 "cells": [
  {
   "cell_type": "markdown",
   "id": "abd5f0de-981e-4dd5-9dfa-b419ed6b792a",
   "metadata": {},
   "source": [
    "# Goodness of fit"
   ]
  },
  {
   "cell_type": "code",
   "execution_count": null,
   "id": "47e3b4bd-e765-4ad4-8cae-d1736db13522",
   "metadata": {},
   "outputs": [],
   "source": [
    "!pip install numpy\n",
    "!pip install matplotlib"
   ]
  },
  {
   "cell_type": "code",
   "execution_count": null,
   "id": "e2e6a233-00a5-439c-9034-db119c967e72",
   "metadata": {},
   "outputs": [],
   "source": [
    "import numpy as np\n",
    "import matplotlib.pyplot as plt"
   ]
  },
  {
   "cell_type": "markdown",
   "id": "66f2f365-3f5e-4612-b5fb-bfb1ed3d53db",
   "metadata": {},
   "source": [
    "### Goodness of fit value $R^2y$ lies b/w 0 and 1\n",
    "$R^2y = (ΣR^2yi)/( nS^2y) $ "
   ]
  },
  {
   "cell_type": "code",
   "execution_count": null,
   "id": "c4f283b8-3832-4257-af98-2d7ab35a5ec9",
   "metadata": {},
   "outputs": [],
   "source": []
  },
  {
   "cell_type": "code",
   "execution_count": null,
   "id": "d2d23b04-cb71-4acf-abac-fd65bfb9e167",
   "metadata": {},
   "outputs": [],
   "source": []
  },
  {
   "cell_type": "code",
   "execution_count": null,
   "id": "8995a7d0-cb91-4bf3-a91e-a9e3ea14233a",
   "metadata": {},
   "outputs": [],
   "source": []
  },
  {
   "cell_type": "code",
   "execution_count": null,
   "id": "4aa0c845-004a-43ea-bb42-c617a6b4f4a6",
   "metadata": {},
   "outputs": [],
   "source": []
  }
 ],
 "metadata": {
  "kernelspec": {
   "display_name": "Python 3 (ipykernel)",
   "language": "python",
   "name": "python3"
  },
  "language_info": {
   "codemirror_mode": {
    "name": "ipython",
    "version": 3
   },
   "file_extension": ".py",
   "mimetype": "text/x-python",
   "name": "python",
   "nbconvert_exporter": "python",
   "pygments_lexer": "ipython3",
   "version": "3.9.12"
  }
 },
 "nbformat": 4,
 "nbformat_minor": 5
}
