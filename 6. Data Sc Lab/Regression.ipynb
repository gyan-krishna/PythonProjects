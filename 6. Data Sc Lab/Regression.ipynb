{
 "cells": [
  {
   "cell_type": "markdown",
   "id": "d3cee04b-7776-4dec-a214-cdf6b5bf687f",
   "metadata": {},
   "source": [
    "# Linear Regression"
   ]
  },
  {
   "cell_type": "code",
   "execution_count": 143,
   "id": "e02b7660-c4be-467a-9d0b-43c3213f8967",
   "metadata": {},
   "outputs": [
    {
     "name": "stdout",
     "output_type": "stream",
     "text": [
      "Requirement already satisfied: numpy in c:\\users\\gyank\\anaconda3\\lib\\site-packages (1.21.5)\n",
      "Requirement already satisfied: matplotlib in c:\\users\\gyank\\anaconda3\\lib\\site-packages (3.5.1)\n",
      "Requirement already satisfied: python-dateutil>=2.7 in c:\\users\\gyank\\anaconda3\\lib\\site-packages (from matplotlib) (2.8.2)\n",
      "Requirement already satisfied: packaging>=20.0 in c:\\users\\gyank\\anaconda3\\lib\\site-packages (from matplotlib) (21.3)\n",
      "Requirement already satisfied: cycler>=0.10 in c:\\users\\gyank\\anaconda3\\lib\\site-packages (from matplotlib) (0.11.0)\n",
      "Requirement already satisfied: fonttools>=4.22.0 in c:\\users\\gyank\\anaconda3\\lib\\site-packages (from matplotlib) (4.25.0)\n",
      "Requirement already satisfied: pillow>=6.2.0 in c:\\users\\gyank\\anaconda3\\lib\\site-packages (from matplotlib) (9.0.1)\n",
      "Requirement already satisfied: pyparsing>=2.2.1 in c:\\users\\gyank\\anaconda3\\lib\\site-packages (from matplotlib) (3.0.4)\n",
      "Requirement already satisfied: kiwisolver>=1.0.1 in c:\\users\\gyank\\anaconda3\\lib\\site-packages (from matplotlib) (1.3.2)\n",
      "Requirement already satisfied: numpy>=1.17 in c:\\users\\gyank\\anaconda3\\lib\\site-packages (from matplotlib) (1.21.5)\n",
      "Requirement already satisfied: six>=1.5 in c:\\users\\gyank\\anaconda3\\lib\\site-packages (from python-dateutil>=2.7->matplotlib) (1.16.0)\n"
     ]
    }
   ],
   "source": [
    "!pip install numpy\n",
    "!pip install matplotlib"
   ]
  },
  {
   "cell_type": "code",
   "execution_count": 2,
   "id": "c2fe4cc6-ece0-4120-a2e2-a867c1f7f206",
   "metadata": {},
   "outputs": [],
   "source": [
    "import numpy as np\n",
    "import matplotlib.pyplot as plt"
   ]
  },
  {
   "cell_type": "code",
   "execution_count": 3,
   "id": "faeabda4-f235-47a7-9a73-c27be06de165",
   "metadata": {},
   "outputs": [],
   "source": [
    "x_data = np.array( [65, 63, 67, 64, 68, 62, 70, 66] )\n",
    "y_data = np.array( [68, 66, 68, 65, 69, 66, 68, 65] )"
   ]
  },
  {
   "cell_type": "code",
   "execution_count": 7,
   "id": "ebeecc71-b9ff-49a2-b415-5ab39e5e140b",
   "metadata": {
    "tags": []
   },
   "outputs": [
    {
     "data": {
      "text/plain": [
       "[<matplotlib.lines.Line2D at 0x259231fe160>]"
      ]
     },
     "execution_count": 7,
     "metadata": {},
     "output_type": "execute_result"
    },
    {
     "data": {
      "image/png": "[encoded data removed]",
      "text/plain": [
       "<Figure size 432x288 with 1 Axes>"
      ]
     },
     "metadata": {
      "needs_background": "light"
     },
     "output_type": "display_data"
    }
   ],
   "source": [
    "fig = plt.figure()\n",
    "ax = fig.add_subplot(111)\n",
    "ax.set(title=\"sample data\", xlabel=\"x\", ylabel=\"y\")\n",
    "ax.plot(x_data, y_data, 'o--')"
   ]
  },
  {
   "cell_type": "markdown",
   "id": "08a3ca5f-bc6b-4bb8-aa78-1450fa727109",
   "metadata": {},
   "source": [
    "## Adddding correction to x data to simplify the calculation"
   ]
  },
  {
   "cell_type": "code",
   "execution_count": 10,
   "id": "ee766b3c-1cf9-4a46-94c4-ff3f18787614",
   "metadata": {
    "tags": []
   },
   "outputs": [
    {
     "name": "stdout",
     "output_type": "stream",
     "text": [
      "x_corr 66\n",
      "y_corr 67\n"
     ]
    }
   ],
   "source": [
    "x_mean = x_data.mean()\n",
    "x_corr_factor = round(x_mean)\n",
    "x_corr = x_data - x_corr_factor\n",
    "\n",
    "y_mean = y_data.mean()\n",
    "y_corr_factor = round(y_mean)\n",
    "y_corr = y_data - y_corr_factor\n",
    "\n",
    "print('x_corr', x_corr_factor)\n",
    "print('y_corr', y_corr_factor)"
   ]
  },
  {
   "cell_type": "code",
   "execution_count": 11,
   "id": "e25e38d7-4f1a-4700-9281-f60c58a4c109",
   "metadata": {},
   "outputs": [],
   "source": [
    "xy   = []\n",
    "x2   = []\n",
    "x3   = []\n",
    "x4   = []\n",
    "x2y  = []\n",
    "y2   = []\n",
    "\n",
    "for i, x in enumerate(x_corr):\n",
    "    x2.append(x**2)\n",
    "    x3.append(x**3)\n",
    "    x4.append(x**4)\n",
    "    xy.append(x * y_corr[i])\n",
    "    x2y.append(x**2 * y_corr[i])\n",
    "    y2.append(y_corr[i] ** 2)\n",
    "\n",
    "xy  = np.array(xy)\n",
    "x2  = np.array(x2)\n",
    "y2  = np.array(y2)\n",
    "\n",
    "x_sum   = x_corr.sum()\n",
    "y_sum   = y_data.sum()\n",
    "xy_sum  = xy.sum()\n",
    "x2_sum  = x2.sum()\n",
    "y2_sum  = y2.sum()\n",
    "\n",
    "n = len(x_data)"
   ]
  },
  {
   "cell_type": "code",
   "execution_count": 16,
   "id": "76b613ab-1511-4967-9525-1b632c481954",
   "metadata": {},
   "outputs": [
    {
     "name": "stdout",
     "output_type": "stream",
     "text": [
      "x        | y        | x_cr     | y_cr     | x^2      | xy       \n",
      "\n",
      "65       | 68       | -1       | 1        | 1        | -1       \n",
      "63       | 66       | -3       | -1       | 9        | 3        \n",
      "67       | 68       | 1        | 1        | 1        | 1        \n",
      "64       | 65       | -2       | -2       | 4        | 4        \n",
      "68       | 69       | 2        | 2        | 4        | 4        \n",
      "62       | 66       | -4       | -1       | 16       | 4        \n",
      "70       | 68       | 4        | 1        | 16       | 4        \n",
      "66       | 65       | 0        | -2       | 0        | 0        \n",
      "----------------------------------------------------------------------------------------------\n",
      "         |          | -3       | 535      | 51       | 19       \n",
      "n = 8\n"
     ]
    }
   ],
   "source": [
    "print (\"{:<8} | {:<8} | {:<8} | {:<8} | {:<8} | {:<8} \".format('x','y', 'x_cr', 'y_cr', 'x^2', 'xy'))\n",
    "print()\n",
    "for i, x in enumerate(x_corr):\n",
    "    print (\"{:<8} | {:<8} | {:<8} | {:<8} | {:<8} | {:<8} \".format(x_data[i], y_data[i], x, y_corr[i], x2[i],  xy[i]))\n",
    "\n",
    "print(\"----------------------------------------------------------------------------------------------\")\n",
    "print (\"{:<8} | {:<8} | {:<8} | {:<8} | {:<8} | {:<8} \".format(' ', ' ',x_sum, y_sum, x2_sum, xy_sum))    \n",
    "print(f'n = {n}')"
   ]
  },
  {
   "cell_type": "markdown",
   "id": "1b61586c-ad28-4d35-be81-d421552cf9ff",
   "metadata": {},
   "source": [
    "## Calculating the parameters for the parabola using the formulas:-\n",
    "### $Σy = a.n + bΣx + cΣx^2$\n",
    "### $Σxy = a.Σx + bΣx^2 + cΣx^3$\n",
    "### $Σx^2y = a.Σx^2 + bΣx^3 + cΣx^4$"
   ]
  },
  {
   "cell_type": "code",
   "execution_count": null,
   "id": "54b211b7-06d7-4839-81a0-9a95231e3a6d",
   "metadata": {},
   "outputs": [],
   "source": []
  },
  {
   "cell_type": "code",
   "execution_count": null,
   "id": "af3bf44b-f668-4e39-99a3-9bd704ba69b1",
   "metadata": {},
   "outputs": [],
   "source": []
  },
  {
   "cell_type": "code",
   "execution_count": null,
   "id": "b4d6c1a2-d37d-4915-9bf1-47f87be32124",
   "metadata": {},
   "outputs": [],
   "source": []
  },
  {
   "cell_type": "code",
   "execution_count": null,
   "id": "ca962c54-fc19-4d90-bf44-4df9c8a73cf9",
   "metadata": {},
   "outputs": [],
   "source": []
  }
 ],
 "metadata": {
  "kernelspec": {
   "display_name": "Python 3 (ipykernel)",
   "language": "python",
   "name": "python3"
  },
  "language_info": {
   "codemirror_mode": {
    "name": "ipython",
    "version": 3
   },
   "file_extension": ".py",
   "mimetype": "text/x-python",
   "name": "python",
   "nbconvert_exporter": "python",
   "pygments_lexer": "ipython3",
   "version": "3.9.12"
  }
 },
 "nbformat": 4,
 "nbformat_minor": 5
}
