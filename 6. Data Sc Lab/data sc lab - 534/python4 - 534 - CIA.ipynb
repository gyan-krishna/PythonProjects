{
 "cells": [
  {
   "cell_type": "markdown",
   "metadata": {},
   "source": [
    "# Introduction to Python - day 3 - CIA\n",
    "### Gyan Krishna - 534"
   ]
  },
  {
   "cell_type": "markdown",
   "metadata": {},
   "source": [
    "wap to print fibonacci in a range - recr <br>\n",
    "wap to enter a range and print prime palindrome numbers <br>\n",
    "wap to enter a range and print non prime palindrome and split into 2 list, evenL and oddL <br>\n",
    "print pascals triangle <br>\n",
    "print floyds triangle <br>"
   ]
  },
  {
   "cell_type": "markdown",
   "metadata": {},
   "source": [
    "### Q1. wap to print fibonacci in a range - recr"
   ]
  },
  {
   "cell_type": "code",
   "execution_count": 12,
   "metadata": {},
   "outputs": [
    {
     "name": "stdin",
     "output_type": "stream",
     "text": [
      "enter lower bound 10\n",
      "enter upper bound 100\n"
     ]
    },
    {
     "name": "stdout",
     "output_type": "stream",
     "text": [
      "13\n",
      "21\n",
      "34\n",
      "55\n",
      "89\n"
     ]
    }
   ],
   "source": [
    "def fibo(lo, up, a, b):\n",
    "    c = a + b\n",
    "    if(c < up):\n",
    "        if(c > lo):\n",
    "            print(c)\n",
    "        fibo(lo, up, b, c)\n",
    "    \n",
    "l = int(input('enter lower bound'))\n",
    "u = int(input('enter upper bound'))\n",
    "\n",
    "fibo(l, u, 0, 1)"
   ]
  },
  {
   "cell_type": "markdown",
   "metadata": {},
   "source": [
    "### Q2. wap to enter a range and print prime palindrome numbers"
   ]
  },
  {
   "cell_type": "code",
   "execution_count": 11,
   "metadata": {},
   "outputs": [
    {
     "name": "stdin",
     "output_type": "stream",
     "text": [
      "enter lower bound 10\n",
      "enter upper bound 200\n"
     ]
    },
    {
     "name": "stdout",
     "output_type": "stream",
     "text": [
      "11\n",
      "101\n",
      "131\n",
      "151\n",
      "181\n",
      "191\n"
     ]
    }
   ],
   "source": [
    "def isPrime(n):\n",
    "    c = 0\n",
    "    for i in range(1, n+1):\n",
    "        if(n%i == 0):\n",
    "            c+=1\n",
    "    if(c==2):\n",
    "        return True\n",
    "    else:\n",
    "        return False\n",
    "\n",
    "def isPalin(n):\n",
    "    n = str(abs(n))\n",
    "    r = n[::-1]\n",
    "    if(n == r):\n",
    "        return True\n",
    "    else:\n",
    "        return False\n",
    "    \n",
    "l = int(input('enter lower bound'))\n",
    "u = int(input('enter upper bound'))\n",
    "\n",
    "for i in range(l, u):\n",
    "    if(isPrime(i) and isPalin(i)):\n",
    "        print(i)"
   ]
  },
  {
   "cell_type": "markdown",
   "metadata": {},
   "source": [
    "### Q3. wap to enter a range and print non prime palindrome and split into 2 list, evenL and oddL"
   ]
  },
  {
   "cell_type": "code",
   "execution_count": 18,
   "metadata": {},
   "outputs": [
    {
     "name": "stdin",
     "output_type": "stream",
     "text": [
      "enter lower bound 10\n",
      "enter upper bound 200\n"
     ]
    },
    {
     "name": "stdout",
     "output_type": "stream",
     "text": [
      "22\n",
      "33\n",
      "44\n",
      "55\n",
      "66\n",
      "77\n",
      "88\n",
      "99\n",
      "111\n",
      "121\n",
      "141\n",
      "161\n",
      "171\n",
      "odd list =  [33, 55, 77, 99, 111, 121, 141, 161, 171]\n",
      "even list =  [22, 44, 66, 88]\n"
     ]
    }
   ],
   "source": [
    "l = int(input('enter lower bound'))\n",
    "u = int(input('enter upper bound'))\n",
    "\n",
    "total = []\n",
    "for i in range(l, u):\n",
    "    if(not isPrime(i) and isPalin(i)):\n",
    "        print(i)\n",
    "        total.append(i)\n",
    "        \n",
    "evenL = [x for x in total if x%2==0]\n",
    "oddL = [x for x in total if x%2==1]\n",
    "\n",
    "print('odd list = ', oddL)\n",
    "print('even list = ', evenL)"
   ]
  },
  {
   "cell_type": "markdown",
   "metadata": {},
   "source": [
    "### Q4. print pascals triangle"
   ]
  },
  {
   "cell_type": "code",
   "execution_count": 34,
   "metadata": {},
   "outputs": [
    {
     "name": "stdin",
     "output_type": "stream",
     "text": [
      "enter n 5\n"
     ]
    },
    {
     "name": "stdout",
     "output_type": "stream",
     "text": [
      "     1 \n",
      "    1 1 \n",
      "   1 2 1 \n",
      "  1 3 3 1 \n",
      " 1 4 6 4 1 \n"
     ]
    }
   ],
   "source": [
    "n = int(input('enter n'))\n",
    "x = 11\n",
    "for i in range(n):\n",
    "    for j in range(n-i):\n",
    "        print(\" \", end=\"\")\n",
    "    x = str(11**i)\n",
    "    for j in x:\n",
    "        print(j , end = \" \")\n",
    "    print()"
   ]
  },
  {
   "cell_type": "markdown",
   "metadata": {},
   "source": [
    "### Q5. Print floyds triangle"
   ]
  },
  {
   "cell_type": "code",
   "execution_count": 39,
   "metadata": {},
   "outputs": [
    {
     "name": "stdin",
     "output_type": "stream",
     "text": [
      "enter n 5\n"
     ]
    },
    {
     "name": "stdout",
     "output_type": "stream",
     "text": [
      "     \n",
      "    1 \n",
      "   2 3 \n",
      "  4 5 6 \n",
      " 7 8 9 10 \n"
     ]
    }
   ],
   "source": [
    "n = int(input('enter n'))\n",
    "x = 1\n",
    "for i in range(n):\n",
    "    for j in range(n-i):\n",
    "        print(\" \", end=\"\")\n",
    "    for j in range(i):\n",
    "        print(x, end=' ')\n",
    "        x+=1\n",
    "    print()"
   ]
  },
  {
   "cell_type": "code",
   "execution_count": 37,
   "metadata": {},
   "outputs": [
    {
     "name": "stdout",
     "output_type": "stream",
     "text": [
      "     \n",
      "    * \n",
      "   * * \n",
      "  * * * \n",
      " * * * * \n"
     ]
    }
   ],
   "source": [
    "n = 5\n",
    "for i in range(n):\n",
    "    for j in range(n-i):\n",
    "        print(\" \", end = \"\")\n",
    "    for j in range(i):\n",
    "        print(\"*\" , end = \" \")\n",
    "    print()"
   ]
  },
  {
   "cell_type": "code",
   "execution_count": 38,
   "metadata": {},
   "outputs": [
    {
     "name": "stdout",
     "output_type": "stream",
     "text": [
      "     \n",
      "    *\n",
      "   **\n",
      "  ***\n",
      " ****\n"
     ]
    }
   ],
   "source": [
    "n = 5\n",
    "for i in range(n):\n",
    "    for j in range(n-i):\n",
    "        print(\" \", end = \"\")\n",
    "    for j in range(i):\n",
    "        print(\"*\" , end = \"\")\n",
    "    print()"
   ]
  },
  {
   "cell_type": "markdown",
   "metadata": {},
   "source": [
    "### Q6. wap in python to input range and print all numbers considering the dictionary which have key value pairs as multiple of 7 within a given range"
   ]
  },
  {
   "cell_type": "code",
   "execution_count": 50,
   "metadata": {},
   "outputs": [
    {
     "name": "stdin",
     "output_type": "stream",
     "text": [
      "enter lower bound 40\n",
      "enter upper bound 99\n"
     ]
    },
    {
     "name": "stdout",
     "output_type": "stream",
     "text": [
      "{1: 44, 2: 55, 3: 66, 4: 77, 5: 88}\n"
     ]
    }
   ],
   "source": [
    "l = int(input('enter lower bound'))\n",
    "u = int(input('enter upper bound'))\n",
    "\n",
    "p = l//11+1\n",
    "x = p*11\n",
    "i = 1\n",
    "\n",
    "d = {}\n",
    "\n",
    "while(x < u):\n",
    "    #print(f'{i} , {x}')\n",
    "    d[i] = x\n",
    "    x+=11\n",
    "    i+=1\n",
    "print(d)"
   ]
  },
  {
   "cell_type": "markdown",
   "metadata": {},
   "source": [
    "### Q7. sort a dict by value"
   ]
  },
  {
   "cell_type": "code",
   "execution_count": 75,
   "metadata": {},
   "outputs": [
    {
     "name": "stdout",
     "output_type": "stream",
     "text": [
      "{1: 'one', 2: 'two', 3: 'three', 4: 'four', 8: 'eight'}\n"
     ]
    }
   ],
   "source": [
    "d = {1:\"one\",\n",
    "    2:\"two\",\n",
    "    4:\"four\",\n",
    "    8:\"eight\",\n",
    "    3:\"three\"}\n",
    "d2 = dict(sorted(d.items()))\n",
    "print(d2)\n"
   ]
  },
  {
   "cell_type": "markdown",
   "metadata": {},
   "source": [
    "### Q8. merge two dict"
   ]
  },
  {
   "cell_type": "code",
   "execution_count": 61,
   "metadata": {},
   "outputs": [
    {
     "name": "stdout",
     "output_type": "stream",
     "text": [
      "{'cat': 'kitten', 'dog': 'puppy', 'sheep': 'lamb'}\n"
     ]
    }
   ],
   "source": [
    "d1 = {'cat':'kitten', 'dog':'puppy'}\n",
    "d2 = {'sheep':'lamb'}\n",
    "\n",
    "d1.update(d2)\n",
    "print(d1)"
   ]
  }
 ],
 "metadata": {
  "kernelspec": {
   "display_name": "Python 3 (ipykernel)",
   "language": "python",
   "name": "python3"
  },
  "language_info": {
   "codemirror_mode": {
    "name": "ipython",
    "version": 3
   },
   "file_extension": ".py",
   "mimetype": "text/x-python",
   "name": "python",
   "nbconvert_exporter": "python",
   "pygments_lexer": "ipython3",
   "version": "3.9.12"
  }
 },
 "nbformat": 4,
 "nbformat_minor": 4
}
