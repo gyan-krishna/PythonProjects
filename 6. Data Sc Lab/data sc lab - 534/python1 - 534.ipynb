{
 "cells": [
  {
   "cell_type": "markdown",
   "metadata": {},
   "source": [
    "# Introduction to Python - day 1\n",
    "### Gyan Krishna - 534"
   ]
  },
  {
   "cell_type": "code",
   "execution_count": 3,
   "metadata": {},
   "outputs": [
    {
     "name": "stdout",
     "output_type": "stream",
     "text": [
      "a =  10\n",
      "b =  5\n",
      "sum =  15\n"
     ]
    }
   ],
   "source": [
    "a = 10\n",
    "b = 5\n",
    "\n",
    "print(\"a = \",a)\n",
    "print(\"b = \", b)\n",
    "\n",
    "print(\"sum = \", a+b)"
   ]
  },
  {
   "cell_type": "markdown",
   "metadata": {},
   "source": [
    "## Operators"
   ]
  },
  {
   "cell_type": "code",
   "execution_count": 4,
   "metadata": {},
   "outputs": [
    {
     "name": "stdout",
     "output_type": "stream",
     "text": [
      "False\n",
      "True\n",
      "False\n"
     ]
    }
   ],
   "source": [
    "b1 = True\n",
    "b2 = False\n",
    "\n",
    "print(b1 and b2)\n",
    "print(b1 or b2)\n",
    "print(not b1)"
   ]
  },
  {
   "cell_type": "markdown",
   "metadata": {},
   "source": [
    "## Input and typecast"
   ]
  },
  {
   "cell_type": "code",
   "execution_count": 6,
   "metadata": {},
   "outputs": [
    {
     "name": "stdin",
     "output_type": "stream",
     "text": [
      "enter a number 10\n",
      "enter a number 20\n"
     ]
    },
    {
     "name": "stdout",
     "output_type": "stream",
     "text": [
      "sum =  30\n"
     ]
    }
   ],
   "source": [
    "x = int(input(\"enter a number\"))\n",
    "y = int(input(\"enter a number\"))\n",
    "\n",
    "sum = x + y \n",
    "print(\"sum = \", sum)"
   ]
  },
  {
   "cell_type": "markdown",
   "metadata": {},
   "source": [
    "## Strings"
   ]
  },
  {
   "cell_type": "code",
   "execution_count": 14,
   "metadata": {},
   "outputs": [
    {
     "name": "stdout",
     "output_type": "stream",
     "text": [
      "harry len =  5\n",
      "<class 'str'>\n",
      "concat =  Harry Good Morning\n",
      "H\n"
     ]
    }
   ],
   "source": [
    "name = \"Harry\"\n",
    "greeting = \"Good Morning\"\n",
    "l = len(name)\n",
    "\n",
    "print(\"harry len = \", l)\n",
    "print(type(name))\n",
    "print(\"concat = \", name+\" \"+greeting)\n",
    "print(name[0])\n",
    "\n",
    "# this is illegal\n",
    "# name[0] = \"B\""
   ]
  },
  {
   "cell_type": "markdown",
   "metadata": {},
   "source": [
    "## String Slicing"
   ]
  },
  {
   "cell_type": "raw",
   "metadata": {},
   "source": [
    "print( name[0:4] )\n",
    "print( name[:3] )\n",
    "print( name[3:] )\n",
    "print( name[-4:-1] )\n",
    "print( name[1:4] )\n",
    "print( name[::2] )"
   ]
  },
  {
   "cell_type": "markdown",
   "metadata": {},
   "source": [
    "## String functions"
   ]
  },
  {
   "cell_type": "code",
   "execution_count": 40,
   "metadata": {},
   "outputs": [
    {
     "name": "stdout",
     "output_type": "stream",
     "text": [
      "44\n",
      "True\n",
      "True\n",
      "2\n",
      "The quick brown fox jumped over the lazy dog\n",
      "16\n",
      "the quick brown donkey jumped over the lazy dog\n",
      "THE QUICK BROWN FOX JUMPED OVER THE LAZY DOG\n"
     ]
    }
   ],
   "source": [
    "txt = \"the quick brown fox jumped over the lazy dog\"\n",
    "print(len(txt))\n",
    "print(txt.endswith(\"og\"))\n",
    "print(txt.startswith(\"the\"))\n",
    "print(txt.count(\"the\"))\n",
    "print(txt.capitalize()) # capitalise first letter\n",
    "print(txt.find(\"fox\")) #-1 if not found\n",
    "print(txt.replace(\"fox\", \"donkey\"))\n",
    "print(txt.upper())"
   ]
  },
  {
   "cell_type": "markdown",
   "metadata": {},
   "source": [
    "# Escape sequence"
   ]
  },
  {
   "cell_type": "code",
   "execution_count": 41,
   "metadata": {},
   "outputs": [
    {
     "name": "stdout",
     "output_type": "stream",
     "text": [
      "\n",
      " \t ' \\\n"
     ]
    }
   ],
   "source": [
    "a = '\\n'\n",
    "b = '\\t'\n",
    "c = '\\''\n",
    "d = '\\\\'\n",
    "\n",
    "print(a, b, c, d)"
   ]
  },
  {
   "cell_type": "markdown",
   "metadata": {},
   "source": [
    "## Assignment:-\n",
    "1. enter name, and displ welcome msg\n",
    "2. detect single space\n",
    "3. detect double space"
   ]
  },
  {
   "cell_type": "code",
   "execution_count": 7,
   "metadata": {},
   "outputs": [
    {
     "name": "stdin",
     "output_type": "stream",
     "text": [
      "enter your name \n"
     ]
    },
    {
     "name": "stdout",
     "output_type": "stream",
     "text": [
      "Welcome to MSc lab   !\n"
     ]
    }
   ],
   "source": [
    "name = input(\"enter your name\")\n",
    "print(\"Welcome to MSc lab \", name, \"!\")"
   ]
  },
  {
   "cell_type": "code",
   "execution_count": 11,
   "metadata": {},
   "outputs": [
    {
     "name": "stdin",
     "output_type": "stream",
     "text": [
      "enter a string \n"
     ]
    }
   ],
   "source": [
    "s = input(\"enter a string\")\n",
    "x = s.count(\" \")\n",
    "y = s.count(\"  \")\n",
    "\n",
    "if(x > 0):\n",
    "    print(\"single space detected!\")\n",
    "    \n",
    "if(y > 0):\n",
    "    print(\"double space detected!\")\n",
    "    s2 = s.replace(\"  \", \" \")\n",
    "    print(\"fixed string:\", s2)"
   ]
  },
  {
   "cell_type": "markdown",
   "metadata": {},
   "source": [
    "## Data structures in python\n",
    "### Lists\n",
    "1. Ordered collection of elements\n",
    "2. Mutable\n",
    "3. Heterogeneous"
   ]
  },
  {
   "cell_type": "code",
   "execution_count": 15,
   "metadata": {},
   "outputs": [
    {
     "name": "stdout",
     "output_type": "stream",
     "text": [
      "[7, 9]\n"
     ]
    }
   ],
   "source": [
    "lst = [7, 9, \"Harry\", True]\n",
    "print(lst[0:2])"
   ]
  },
  {
   "cell_type": "markdown",
   "metadata": {},
   "source": [
    "### List functions"
   ]
  },
  {
   "cell_type": "code",
   "execution_count": 35,
   "metadata": {},
   "outputs": [
    {
     "name": "stdout",
     "output_type": "stream",
     "text": [
      "[1, 2, 4, 6, 8, 9]\n",
      "[9, 8, 6, 4, 2, 1]\n",
      "[9, 8, 6, 4, 2, 1, 0]\n",
      "[9, 10, 8, 6, 4, 2, 1, 0]\n",
      "6\n",
      "[9, 10, 8, 4, 2, 0]\n"
     ]
    }
   ],
   "source": [
    "lst = [8,4,2,6,9,1]\n",
    "\n",
    "lst.sort() \n",
    "print(lst)\n",
    "      \n",
    "lst.reverse()\n",
    "print(lst)\n",
    "\n",
    "lst.append(0)\n",
    "print(lst)\n",
    "\n",
    "#insert 10, at index 1\n",
    "lst.insert(1, 10)\n",
    "print(lst)\n",
    "\n",
    "#delete element at pos 3\n",
    "print( lst.pop(3) )\n",
    "\n",
    "lst.remove(1)\n",
    "print(lst)"
   ]
  },
  {
   "cell_type": "markdown",
   "metadata": {},
   "source": [
    "### Assignment 2:-\n",
    "1. accept 10 marks and sort them\n",
    "2. sum of list of 4 nos"
   ]
  },
  {
   "cell_type": "code",
   "execution_count": 34,
   "metadata": {},
   "outputs": [
    {
     "name": "stdin",
     "output_type": "stream",
     "text": [
      "enter marks 0 : 1\n",
      "enter marks 1 : 2\n",
      "enter marks 2 : 3\n",
      "enter marks 3 : 8\n",
      "enter marks 4 : 7\n",
      "enter marks 5 : 6\n",
      "enter marks 6 : 4\n",
      "enter marks 7 : 21\n",
      "enter marks 8 : 04\n",
      "enter marks 9 : 7\n"
     ]
    },
    {
     "name": "stdout",
     "output_type": "stream",
     "text": [
      "[1, 2, 3, 8, 7, 6, 4, 21, 4, 7]\n",
      "[1, 2, 3, 4, 4, 6, 7, 7, 8, 21]\n"
     ]
    }
   ],
   "source": [
    "marks = []\n",
    "for i in range(10):\n",
    "    marks.append(int(input(\"enter marks {} :\".format(i))))\n",
    "    \n",
    "print(marks)\n",
    "marks.sort()\n",
    "print(marks)"
   ]
  },
  {
   "cell_type": "code",
   "execution_count": 33,
   "metadata": {},
   "outputs": [
    {
     "name": "stdout",
     "output_type": "stream",
     "text": [
      "100\n"
     ]
    }
   ],
   "source": [
    "lst = [10, 20, 30, 40]\n",
    "s = sum(lst)\n",
    "print(s)"
   ]
  }
 ],
 "metadata": {
  "kernelspec": {
   "display_name": "Python 3 (ipykernel)",
   "language": "python",
   "name": "python3"
  },
  "language_info": {
   "codemirror_mode": {
    "name": "ipython",
    "version": 3
   },
   "file_extension": ".py",
   "mimetype": "text/x-python",
   "name": "python",
   "nbconvert_exporter": "python",
   "pygments_lexer": "ipython3",
   "version": "3.9.12"
  }
 },
 "nbformat": 4,
 "nbformat_minor": 4
}
