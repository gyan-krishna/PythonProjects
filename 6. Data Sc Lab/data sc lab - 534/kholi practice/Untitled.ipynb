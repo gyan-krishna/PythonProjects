{
 "cells": [
  {
   "cell_type": "code",
   "execution_count": 2,
   "id": "1aa569fe-ef69-404e-995d-45b2b3ce10f8",
   "metadata": {},
   "outputs": [],
   "source": [
    "import pandas as pd\n",
    "import numpy as np"
   ]
  },
  {
   "cell_type": "code",
   "execution_count": 4,
   "id": "469d4135-3bf5-45e3-a504-80a61d4c1579",
   "metadata": {},
   "outputs": [],
   "source": [
    "path = r'archive/final.csv'\n",
    "df = pd.read_csv(path)"
   ]
  },
  {
   "cell_type": "code",
   "execution_count": 25,
   "id": "e5c01b3c-3c02-44b0-8d63-ef350f186348",
   "metadata": {},
   "outputs": [
    {
     "data": {
      "text/html": [
       "<div>\n",
       "<style scoped>\n",
       "    .dataframe tbody tr th:only-of-type {\n",
       "        vertical-align: middle;\n",
       "    }\n",
       "\n",
       "    .dataframe tbody tr th {\n",
       "        vertical-align: top;\n",
       "    }\n",
       "\n",
       "    .dataframe thead th {\n",
       "        text-align: right;\n",
       "    }\n",
       "</style>\n",
       "<table border=\"1\" class=\"dataframe\">\n",
       "  <thead>\n",
       "    <tr style=\"text-align: right;\">\n",
       "      <th></th>\n",
       "      <th>index</th>\n",
       "      <th>runs</th>\n",
       "      <th>opponent</th>\n",
       "      <th>ground</th>\n",
       "      <th>date</th>\n",
       "      <th>match</th>\n",
       "      <th>Match_No</th>\n",
       "      <th>total</th>\n",
       "    </tr>\n",
       "  </thead>\n",
       "  <tbody>\n",
       "    <tr>\n",
       "      <th>0</th>\n",
       "      <td>0</td>\n",
       "      <td>12</td>\n",
       "      <td>SriLanka</td>\n",
       "      <td>Dambulla</td>\n",
       "      <td>18Aug2008</td>\n",
       "      <td>ODI</td>\n",
       "      <td>1</td>\n",
       "      <td>12</td>\n",
       "    </tr>\n",
       "    <tr>\n",
       "      <th>1</th>\n",
       "      <td>1</td>\n",
       "      <td>37</td>\n",
       "      <td>SriLanka</td>\n",
       "      <td>Dambulla</td>\n",
       "      <td>20Aug2008</td>\n",
       "      <td>ODI</td>\n",
       "      <td>2</td>\n",
       "      <td>49</td>\n",
       "    </tr>\n",
       "    <tr>\n",
       "      <th>2</th>\n",
       "      <td>2</td>\n",
       "      <td>25</td>\n",
       "      <td>SriLanka</td>\n",
       "      <td>Colombo(RPS)</td>\n",
       "      <td>24Aug2008</td>\n",
       "      <td>ODI</td>\n",
       "      <td>3</td>\n",
       "      <td>74</td>\n",
       "    </tr>\n",
       "    <tr>\n",
       "      <th>3</th>\n",
       "      <td>3</td>\n",
       "      <td>54</td>\n",
       "      <td>SriLanka</td>\n",
       "      <td>Colombo(RPS)</td>\n",
       "      <td>27Aug2008</td>\n",
       "      <td>ODI</td>\n",
       "      <td>4</td>\n",
       "      <td>128</td>\n",
       "    </tr>\n",
       "    <tr>\n",
       "      <th>4</th>\n",
       "      <td>4</td>\n",
       "      <td>31</td>\n",
       "      <td>SriLanka</td>\n",
       "      <td>Colombo(RPS)</td>\n",
       "      <td>29Aug2008</td>\n",
       "      <td>ODI</td>\n",
       "      <td>5</td>\n",
       "      <td>159</td>\n",
       "    </tr>\n",
       "  </tbody>\n",
       "</table>\n",
       "</div>"
      ],
      "text/plain": [
       "   index  runs  opponent        ground       date match  Match_No  total\n",
       "0      0    12  SriLanka      Dambulla  18Aug2008   ODI         1     12\n",
       "1      1    37  SriLanka      Dambulla  20Aug2008   ODI         2     49\n",
       "2      2    25  SriLanka  Colombo(RPS)  24Aug2008   ODI         3     74\n",
       "3      3    54  SriLanka  Colombo(RPS)  27Aug2008   ODI         4    128\n",
       "4      4    31  SriLanka  Colombo(RPS)  29Aug2008   ODI         5    159"
      ]
     },
     "execution_count": 25,
     "metadata": {},
     "output_type": "execute_result"
    }
   ],
   "source": [
    "df.head()"
   ]
  },
  {
   "cell_type": "code",
   "execution_count": 8,
   "id": "e4d7a100-d6d9-40a6-81c7-48abd16a0900",
   "metadata": {},
   "outputs": [
    {
     "data": {
      "text/html": [
       "<div>\n",
       "<style scoped>\n",
       "    .dataframe tbody tr th:only-of-type {\n",
       "        vertical-align: middle;\n",
       "    }\n",
       "\n",
       "    .dataframe tbody tr th {\n",
       "        vertical-align: top;\n",
       "    }\n",
       "\n",
       "    .dataframe thead th {\n",
       "        text-align: right;\n",
       "    }\n",
       "</style>\n",
       "<table border=\"1\" class=\"dataframe\">\n",
       "  <thead>\n",
       "    <tr style=\"text-align: right;\">\n",
       "      <th></th>\n",
       "      <th>index</th>\n",
       "      <th>runs</th>\n",
       "      <th>Match_No</th>\n",
       "      <th>total</th>\n",
       "    </tr>\n",
       "  </thead>\n",
       "  <tbody>\n",
       "    <tr>\n",
       "      <th>count</th>\n",
       "      <td>516.000000</td>\n",
       "      <td>516.000000</td>\n",
       "      <td>516.000000</td>\n",
       "      <td>516.000000</td>\n",
       "    </tr>\n",
       "    <tr>\n",
       "      <th>mean</th>\n",
       "      <td>270.118217</td>\n",
       "      <td>45.947674</td>\n",
       "      <td>258.500000</td>\n",
       "      <td>11681.726744</td>\n",
       "    </tr>\n",
       "    <tr>\n",
       "      <th>std</th>\n",
       "      <td>155.219618</td>\n",
       "      <td>44.584372</td>\n",
       "      <td>149.100637</td>\n",
       "      <td>7301.114849</td>\n",
       "    </tr>\n",
       "    <tr>\n",
       "      <th>min</th>\n",
       "      <td>0.000000</td>\n",
       "      <td>0.000000</td>\n",
       "      <td>1.000000</td>\n",
       "      <td>12.000000</td>\n",
       "    </tr>\n",
       "    <tr>\n",
       "      <th>25%</th>\n",
       "      <td>134.750000</td>\n",
       "      <td>11.000000</td>\n",
       "      <td>129.750000</td>\n",
       "      <td>5328.250000</td>\n",
       "    </tr>\n",
       "    <tr>\n",
       "      <th>50%</th>\n",
       "      <td>270.500000</td>\n",
       "      <td>32.500000</td>\n",
       "      <td>258.500000</td>\n",
       "      <td>10886.500000</td>\n",
       "    </tr>\n",
       "    <tr>\n",
       "      <th>75%</th>\n",
       "      <td>403.250000</td>\n",
       "      <td>70.250000</td>\n",
       "      <td>387.250000</td>\n",
       "      <td>18535.750000</td>\n",
       "    </tr>\n",
       "    <tr>\n",
       "      <th>max</th>\n",
       "      <td>539.000000</td>\n",
       "      <td>254.000000</td>\n",
       "      <td>516.000000</td>\n",
       "      <td>23709.000000</td>\n",
       "    </tr>\n",
       "  </tbody>\n",
       "</table>\n",
       "</div>"
      ],
      "text/plain": [
       "            index        runs    Match_No         total\n",
       "count  516.000000  516.000000  516.000000    516.000000\n",
       "mean   270.118217   45.947674  258.500000  11681.726744\n",
       "std    155.219618   44.584372  149.100637   7301.114849\n",
       "min      0.000000    0.000000    1.000000     12.000000\n",
       "25%    134.750000   11.000000  129.750000   5328.250000\n",
       "50%    270.500000   32.500000  258.500000  10886.500000\n",
       "75%    403.250000   70.250000  387.250000  18535.750000\n",
       "max    539.000000  254.000000  516.000000  23709.000000"
      ]
     },
     "execution_count": 8,
     "metadata": {},
     "output_type": "execute_result"
    }
   ],
   "source": [
    "df.describe()"
   ]
  },
  {
   "cell_type": "markdown",
   "id": "ae05b20d-1395-4ed8-8286-999efdb1837d",
   "metadata": {},
   "source": [
    "#### Max scoring match"
   ]
  },
  {
   "cell_type": "code",
   "execution_count": 18,
   "id": "6ba1841d-6100-4c93-8a3a-cb3bc807d21c",
   "metadata": {},
   "outputs": [
    {
     "name": "stdout",
     "output_type": "stream",
     "text": [
      "index               453\n",
      "runs                254\n",
      "opponent    SouthAfrica\n",
      "ground             Pune\n",
      "date          10Oct2019\n",
      "match              Test\n",
      "Match_No            435\n",
      "total             21024\n",
      "Name: 434, dtype: object\n"
     ]
    }
   ],
   "source": [
    "max_id = df['runs'].idxmax()\n",
    "print(df.loc[max_id])"
   ]
  },
  {
   "cell_type": "markdown",
   "id": "29a14cb2-d9cc-4e8d-ae19-c8155d71f285",
   "metadata": {},
   "source": [
    "#### Min scoring match"
   ]
  },
  {
   "cell_type": "code",
   "execution_count": 20,
   "id": "bf59baa6-4314-4bb4-8c82-f412d236383e",
   "metadata": {},
   "outputs": [
    {
     "name": "stdout",
     "output_type": "stream",
     "text": [
      "index              23\n",
      "runs                0\n",
      "opponent     Zimbabwe\n",
      "ground       Bulawayo\n",
      "date        28May2010\n",
      "match             ODI\n",
      "Match_No           21\n",
      "total             847\n",
      "Name: 20, dtype: object\n"
     ]
    }
   ],
   "source": [
    "min_id = df['runs'].idxmin()\n",
    "print(df.loc[min_id])"
   ]
  },
  {
   "cell_type": "code",
   "execution_count": 24,
   "id": "90913dfc-0a4d-42e7-bfe7-5ad650a5a7eb",
   "metadata": {},
   "outputs": [
    {
     "data": {
      "text/plain": [
       "0      32\n",
       "9      15\n",
       "1      14\n",
       "2      13\n",
       "3      12\n",
       "       ..\n",
       "211     1\n",
       "154     1\n",
       "167     1\n",
       "235     1\n",
       "73      1\n",
       "Name: runs, Length: 142, dtype: int64"
      ]
     },
     "execution_count": 24,
     "metadata": {},
     "output_type": "execute_result"
    }
   ],
   "source": [
    "df['runs'].value_counts()"
   ]
  },
  {
   "cell_type": "code",
   "execution_count": 29,
   "id": "80f9f44d-7207-417a-9c26-607dd43225c8",
   "metadata": {},
   "outputs": [
    {
     "data": {
      "text/plain": [
       "Mirpur               23\n",
       "Kolkata              18\n",
       "Ahmedabad            17\n",
       "Sydney               17\n",
       "Bengaluru            17\n",
       "                     ..\n",
       "Bristol               1\n",
       "Brabourne             1\n",
       "Providence            1\n",
       "Roseau                1\n",
       "Chester-le-Street     1\n",
       "Name: ground, Length: 73, dtype: int64"
      ]
     },
     "execution_count": 29,
     "metadata": {},
     "output_type": "execute_result"
    }
   ],
   "source": [
    "df['ground'].value_counts()"
   ]
  },
  {
   "cell_type": "code",
   "execution_count": null,
   "id": "736a581d-eac9-4b07-aef4-38907866c142",
   "metadata": {},
   "outputs": [],
   "source": []
  },
  {
   "cell_type": "code",
   "execution_count": null,
   "id": "fc1a5967-cc01-45f0-a62b-6d333d7280fb",
   "metadata": {},
   "outputs": [],
   "source": []
  }
 ],
 "metadata": {
  "kernelspec": {
   "display_name": "Python 3 (ipykernel)",
   "language": "python",
   "name": "python3"
  },
  "language_info": {
   "codemirror_mode": {
    "name": "ipython",
    "version": 3
   },
   "file_extension": ".py",
   "mimetype": "text/x-python",
   "name": "python",
   "nbconvert_exporter": "python",
   "pygments_lexer": "ipython3",
   "version": "3.9.12"
  }
 },
 "nbformat": 4,
 "nbformat_minor": 5
}
