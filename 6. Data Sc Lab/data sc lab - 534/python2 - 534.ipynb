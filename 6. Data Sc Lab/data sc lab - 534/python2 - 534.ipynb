{
 "cells": [
  {
   "cell_type": "markdown",
   "metadata": {},
   "source": [
    "# Introduction to Python - day 2\n",
    "### Gyan Krishna - 534"
   ]
  },
  {
   "cell_type": "markdown",
   "metadata": {},
   "source": [
    "### Tuples\n",
    "- heterogenous\n",
    "- immutable"
   ]
  },
  {
   "cell_type": "code",
   "execution_count": 12,
   "metadata": {},
   "outputs": [
    {
     "name": "stdout",
     "output_type": "stream",
     "text": [
      "<class 'tuple'>\n",
      "(1, 2.5, 9, 'a', 5, True)\n",
      "(2.5, 9, 'a')\n",
      "2\n",
      "1\n",
      "6\n"
     ]
    }
   ],
   "source": [
    "a = ()\n",
    "b = (1, )\n",
    "c = (1, 2.5, 9, 'a', 5, True)\n",
    "\n",
    "print(type(a))\n",
    "print(c)\n",
    "print(c[1:4])\n",
    "\n",
    "print(c.count(1))\n",
    "print(c.index(2.5))\n",
    "print(len(c))"
   ]
  },
  {
   "cell_type": "markdown",
   "metadata": {},
   "source": [
    "### Dictionary\n",
    "- collection of key valye pairs enclosed in {}\n",
    "- unordered\n",
    "- mutable\n",
    "- indexed\n",
    "- cannot store duplicate values"
   ]
  },
  {
   "cell_type": "code",
   "execution_count": 17,
   "metadata": {},
   "outputs": [
    {
     "name": "stdout",
     "output_type": "stream",
     "text": [
      "value\n",
      "dict_keys(['key', 'harry', 'marks', 'list'])\n",
      "dict_values(['value', 'code', 100, [1, 2, 9]])\n",
      "{'key': 'secret', 'harry': 'code', 'marks': 100, 'list': [1, 2, 9]}\n"
     ]
    }
   ],
   "source": [
    "a = {'key' : 'value',\n",
    "    'harry' : 'code',\n",
    "    'marks' : 100,\n",
    "    'list' : [1,2,9]}\n",
    "\n",
    "print(a['key'])\n",
    "print(a.keys())\n",
    "print(a.values())\n",
    "\n",
    "#updating the dict\n",
    "a['key'] = 'secret'\n",
    "print(a)"
   ]
  },
  {
   "cell_type": "code",
   "execution_count": 19,
   "metadata": {},
   "outputs": [
    {
     "name": "stdout",
     "output_type": "stream",
     "text": [
      "in a quick manner\n",
      "a coder\n",
      "{10, 20}\n",
      "player\n"
     ]
    }
   ],
   "source": [
    "myDict = {\n",
    "    'fast' : 'in a quick manner',\n",
    "    'harry' : 'a coder',\n",
    "    'marks' : [1, 2, 5],\n",
    "    'another_dict' : {'harry': 'player'}\n",
    "}\n",
    "\n",
    "print(myDict['fast'])\n",
    "print(myDict['harry'])\n",
    "myDict['marks'] = {10, 20}\n",
    "print(myDict['marks'])\n",
    "print(myDict['another_dict']['harry'])"
   ]
  },
  {
   "cell_type": "markdown",
   "metadata": {},
   "source": [
    "### Sets\n",
    "- non repetitive elements within {}\n",
    "- unordered\n",
    "- unindexed\n",
    "- immutable\n",
    "- cannot store duplicate items"
   ]
  },
  {
   "cell_type": "code",
   "execution_count": 37,
   "metadata": {},
   "outputs": [
    {
     "name": "stdout",
     "output_type": "stream",
     "text": [
      "union =  {1, 2, 3, 4, 5, 6}\n",
      "intersection =  {3, 4}\n",
      "added 5 ->  {1, 2, 3, 4, 5}\n",
      "removed 1 ->  {2, 3, 4, 5}\n",
      "2\n",
      "popped ->  {3, 4, 5}\n"
     ]
    }
   ],
   "source": [
    "a = set([1,2,3,4])\n",
    "b = set([3,4,5,6])\n",
    "\n",
    "un = a.union(b)\n",
    "intr = a.intersection(b)\n",
    "\n",
    "print( 'union = ', un )\n",
    "print( 'intersection = ', intr )\n",
    "\n",
    "a.add(5)\n",
    "print('added 5 -> ', a)\n",
    "\n",
    "a.remove(1)\n",
    "print('removed 1 -> ', a)\n",
    "\n",
    "print(a.pop())\n",
    "print('popped -> ',a)"
   ]
  },
  {
   "cell_type": "markdown",
   "metadata": {},
   "source": [
    "## Assignments\n",
    "1. create dict of english words with values as their ascii\n",
    "2. input 8 numbers and display the unique ones\n",
    "3. create empty dict, allow 4 friends to enter name and fav language"
   ]
  },
  {
   "cell_type": "code",
   "execution_count": 55,
   "metadata": {},
   "outputs": [
    {
     "name": "stdout",
     "output_type": "stream",
     "text": [
      "{'A': 65, 'a': 97, 'B': 66, 'b': 98, 'C': 67, 'c': 99, 'D': 68, 'd': 100, 'E': 69, 'e': 101, 'F': 70, 'f': 102, 'G': 71, 'g': 103, 'H': 72, 'h': 104, 'I': 73, 'i': 105, 'J': 74, 'j': 106, 'K': 75, 'k': 107, 'L': 76, 'l': 108, 'M': 77, 'm': 109, 'N': 78, 'n': 110, 'O': 79, 'o': 111, 'P': 80, 'p': 112, 'Q': 81, 'q': 113, 'R': 82, 'r': 114, 'S': 83, 's': 115, 'T': 84, 't': 116, 'U': 85, 'u': 117, 'V': 86, 'v': 118, 'W': 87, 'w': 119, 'X': 88, 'x': 120, 'Y': 89, 'y': 121, 'Z': 90, 'z': 122}\n"
     ]
    }
   ],
   "source": [
    "ASCII = {}\n",
    "for i in range(26):\n",
    "    ASCII[chr(i+65)] = i+65\n",
    "    ASCII[chr(i+97)] = i+97\n",
    "print(ASCII)"
   ]
  },
  {
   "cell_type": "code",
   "execution_count": 57,
   "metadata": {},
   "outputs": [
    {
     "name": "stdin",
     "output_type": "stream",
     "text": [
      "enter a word hello\n",
      "enter a word world\n",
      "enter a word this\n",
      "enter a word is\n"
     ]
    },
    {
     "name": "stdout",
     "output_type": "stream",
     "text": [
      "{'hello': [104, 101, 108, 108, 111], 'world': [119, 111, 114, 108, 100], 'this': [116, 104, 105, 115], 'is': [105, 115]}\n"
     ]
    }
   ],
   "source": [
    "#prog 1\n",
    "words = {}\n",
    "for i in range(4):\n",
    "    wrd = input('enter a word')\n",
    "    l = []\n",
    "    for ch in wrd:\n",
    "        l.append( ord(ch))\n",
    "    words[wrd] = l\n",
    "print(words)"
   ]
  },
  {
   "cell_type": "code",
   "execution_count": 45,
   "metadata": {},
   "outputs": [
    {
     "name": "stdin",
     "output_type": "stream",
     "text": [
      "enter a number 5\n",
      "enter a number 5\n",
      "enter a number 1\n",
      "enter a number 2\n",
      "enter a number 3\n",
      "enter a number 5\n",
      "enter a number 7\n",
      "enter a number 8\n"
     ]
    },
    {
     "name": "stdout",
     "output_type": "stream",
     "text": [
      "{1, 2, 3, 5, 7, 8}\n"
     ]
    }
   ],
   "source": [
    "# prog 2\n",
    "num_list = set()\n",
    "for i in range(8):\n",
    "    num = int(input(\"enter a number\"))\n",
    "    num_list.add(num)\n",
    "print(num_list)"
   ]
  },
  {
   "cell_type": "code",
   "execution_count": 46,
   "metadata": {},
   "outputs": [
    {
     "name": "stdin",
     "output_type": "stream",
     "text": [
      "enter your name  gyan\n",
      "enter fav language  english\n",
      "enter your name  tanmoy\n",
      "enter fav language  hindi\n",
      "enter your name  bob\n",
      "enter fav language  chinese\n",
      "enter your name  charlie\n",
      "enter fav language  japanese\n"
     ]
    }
   ],
   "source": [
    "# prog 3\n",
    "friends = {}\n",
    "for i in range(4):\n",
    "    name = input(\"enter your name \")\n",
    "    lang = input(\"enter fav language \")\n",
    "    friends[name] = lang"
   ]
  },
  {
   "cell_type": "code",
   "execution_count": 47,
   "metadata": {},
   "outputs": [
    {
     "name": "stdout",
     "output_type": "stream",
     "text": [
      "{'gyan': 'english', 'tanmoy': 'hindi', 'bob': 'chinese', 'charlie': 'japanese'}\n"
     ]
    }
   ],
   "source": [
    "print(friends)"
   ]
  },
  {
   "cell_type": "markdown",
   "metadata": {},
   "source": [
    "### Conditional expression in python"
   ]
  },
  {
   "cell_type": "code",
   "execution_count": 61,
   "metadata": {},
   "outputs": [
    {
     "name": "stdout",
     "output_type": "stream",
     "text": [
      "a is greater than 10\n"
     ]
    }
   ],
   "source": [
    "a = 20\n",
    "if(a == 10):\n",
    "    print('a is equal to 10')\n",
    "elif(a > 10):\n",
    "    print('a is greater than 10')\n",
    "else:\n",
    "    print('a is less than 10')"
   ]
  },
  {
   "cell_type": "markdown",
   "metadata": {},
   "source": [
    "### Ternary operator in python"
   ]
  },
  {
   "cell_type": "code",
   "execution_count": 64,
   "metadata": {},
   "outputs": [
    {
     "name": "stdout",
     "output_type": "stream",
     "text": [
      "gr\n"
     ]
    }
   ],
   "source": [
    "a = 20\n",
    "print('gr') if a > 10 else print('sm')"
   ]
  },
  {
   "cell_type": "markdown",
   "metadata": {},
   "source": [
    "### Loops in python"
   ]
  },
  {
   "cell_type": "code",
   "execution_count": 82,
   "metadata": {},
   "outputs": [
    {
     "name": "stdout",
     "output_type": "stream",
     "text": [
      "0 2 4 6 8 "
     ]
    }
   ],
   "source": [
    "for i in range(0, 10, 2):\n",
    "    print(i , end=\" \")"
   ]
  },
  {
   "cell_type": "markdown",
   "metadata": {},
   "source": [
    "### Assignment set 2\n",
    "- multiplication table of a numer\n",
    "- greet all persons in a list with name s*\n",
    "- check prime \n",
    "- sum of first n natural num - while loop\n",
    "- factorial - for loop\n",
    "- prime fibonacci"
   ]
  },
  {
   "cell_type": "markdown",
   "metadata": {},
   "source": [
    "### multiplication table"
   ]
  },
  {
   "cell_type": "code",
   "execution_count": 81,
   "metadata": {},
   "outputs": [
    {
     "name": "stdout",
     "output_type": "stream",
     "text": [
      "   6    *    0    =    0\n",
      "   6    *    1    =    6\n",
      "   6    *    2    =   12\n",
      "   6    *    3    =   18\n",
      "   6    *    4    =   24\n",
      "   6    *    5    =   30\n",
      "   6    *    6    =   36\n",
      "   6    *    7    =   42\n",
      "   6    *    8    =   48\n",
      "   6    *    9    =   54\n"
     ]
    }
   ],
   "source": [
    "\n",
    "num = 6# int(input(\"enter a number\"))\n",
    "for i in range(10):\n",
    "    print('{:4}    * {:4}    = {:4}'.format(num, i, num*i))"
   ]
  },
  {
   "cell_type": "markdown",
   "metadata": {},
   "source": [
    "### greet names that start with s"
   ]
  },
  {
   "cell_type": "code",
   "execution_count": 84,
   "metadata": {},
   "outputs": [
    {
     "name": "stdout",
     "output_type": "stream",
     "text": [
      "hello soputik\n"
     ]
    }
   ],
   "source": [
    "names = ['gyan', 'tanmoy', 'soputik']\n",
    "for name in names:\n",
    "    if(name[0] == 's' or name[0] == 'S'):\n",
    "        print(f'hello {name}')"
   ]
  },
  {
   "cell_type": "markdown",
   "metadata": {},
   "source": [
    "### prime check"
   ]
  },
  {
   "cell_type": "code",
   "execution_count": 112,
   "metadata": {},
   "outputs": [
    {
     "data": {
      "text/plain": [
       "True"
      ]
     },
     "execution_count": 112,
     "metadata": {},
     "output_type": "execute_result"
    }
   ],
   "source": [
    "def prime(num):\n",
    "    count = 0\n",
    "    for i in range(1, num+1):\n",
    "        if(num % i == 0):\n",
    "            count += 1\n",
    "            \n",
    "    if(count == 2):\n",
    "        return True\n",
    "    else:\n",
    "        return False\n",
    "\n",
    "#print(prime(10))\n",
    "#print(prime(3))\n",
    "prime(13)"
   ]
  },
  {
   "cell_type": "markdown",
   "metadata": {},
   "source": [
    "### first 10 natural num sum"
   ]
  },
  {
   "cell_type": "code",
   "execution_count": 90,
   "metadata": {},
   "outputs": [
    {
     "name": "stdout",
     "output_type": "stream",
     "text": [
      "sum = 45\n"
     ]
    }
   ],
   "source": [
    "s = 0\n",
    "i = 1\n",
    "while(i < 10):\n",
    "    s += i\n",
    "    i += 1\n",
    "print(f'sum = {s}')"
   ]
  },
  {
   "cell_type": "markdown",
   "metadata": {},
   "source": [
    "### factorial using for loop"
   ]
  },
  {
   "cell_type": "code",
   "execution_count": 91,
   "metadata": {},
   "outputs": [
    {
     "name": "stdout",
     "output_type": "stream",
     "text": [
      "factorial = 120\n"
     ]
    }
   ],
   "source": [
    "num = 5\n",
    "f = 1\n",
    "for i in range(1, num+1):\n",
    "    f *= i\n",
    "print(f'factorial = {f}')"
   ]
  },
  {
   "cell_type": "markdown",
   "metadata": {},
   "source": [
    "### Prime and fibonacci"
   ]
  },
  {
   "cell_type": "code",
   "execution_count": 114,
   "metadata": {},
   "outputs": [
    {
     "name": "stdout",
     "output_type": "stream",
     "text": [
      "True\n"
     ]
    }
   ],
   "source": [
    "a = 0\n",
    "b = 1\n",
    "num = 13\n",
    "if(prime(num)):\n",
    "    flag = False\n",
    "    while(a <= num):\n",
    "        c = a + b;\n",
    "        a = b\n",
    "        b = c\n",
    "        if(c == num):\n",
    "            flag = True\n",
    "else:\n",
    "    flag = False\n",
    "    \n",
    "print(flag)"
   ]
  },
  {
   "cell_type": "markdown",
   "metadata": {},
   "source": [
    "### Prime and fibonacci in range"
   ]
  },
  {
   "cell_type": "code",
   "execution_count": 156,
   "metadata": {},
   "outputs": [
    {
     "name": "stdout",
     "output_type": "stream",
     "text": [
      "13\n",
      "89\n",
      "233\n"
     ]
    }
   ],
   "source": [
    "a = 0\n",
    "b = 1\n",
    "c = 1\n",
    "num = 13\n",
    "\n",
    "l = 10\n",
    "u = 1000\n",
    "while(c <= u):\n",
    "    if(prime(c) and (c > l)):\n",
    "        print(c)\n",
    "    c = a + b;\n",
    "    a = b\n",
    "    b = c\n"
   ]
  },
  {
   "cell_type": "markdown",
   "metadata": {},
   "source": [
    "### Palindrome and prime"
   ]
  },
  {
   "cell_type": "code",
   "execution_count": 168,
   "metadata": {},
   "outputs": [
    {
     "name": "stdout",
     "output_type": "stream",
     "text": [
      "not prime palindrome\n"
     ]
    }
   ],
   "source": [
    "def palindrome(num):\n",
    "    r = 0\n",
    "    n = num\n",
    "    while(num > 0):\n",
    "        r = r*10 + num%10\n",
    "        num //= 10\n",
    "    if(n == r):\n",
    "        return True\n",
    "    else:\n",
    "        return False\n",
    "\n",
    "num = 12\n",
    "if(prime(num) and palindrome(num)):\n",
    "    print(\"prime palindrom\")\n",
    "else:\n",
    "    print(\"not prime palindrome\")"
   ]
  },
  {
   "cell_type": "code",
   "execution_count": 171,
   "metadata": {},
   "outputs": [
    {
     "name": "stdout",
     "output_type": "stream",
     "text": [
      "11 isprime palindrom\n",
      "101 isprime palindrom\n",
      "131 isprime palindrom\n",
      "151 isprime palindrom\n",
      "181 isprime palindrom\n",
      "191 isprime palindrom\n",
      "313 isprime palindrom\n",
      "353 isprime palindrom\n",
      "373 isprime palindrom\n",
      "383 isprime palindrom\n",
      "727 isprime palindrom\n",
      "757 isprime palindrom\n",
      "787 isprime palindrom\n",
      "797 isprime palindrom\n",
      "919 isprime palindrom\n",
      "929 isprime palindrom\n"
     ]
    }
   ],
   "source": [
    "for i in range(10, 10000):\n",
    "    if(prime(i) and palindrome(i)):\n",
    "        print(f\"{i} isprime palindrom\")"
   ]
  },
  {
   "cell_type": "markdown",
   "metadata": {},
   "source": [
    "### Assignment set 3 - patterns"
   ]
  },
  {
   "cell_type": "code",
   "execution_count": 136,
   "metadata": {},
   "outputs": [
    {
     "name": "stdout",
     "output_type": "stream",
     "text": [
      "\n",
      "* \n",
      "* * \n",
      "* * * \n",
      "* * * * \n"
     ]
    }
   ],
   "source": [
    "n = 5\n",
    "\n",
    "for i in range(n):\n",
    "    for j in range(i):\n",
    "        print(\"*\", end=\" \")\n",
    "    print()"
   ]
  },
  {
   "cell_type": "code",
   "execution_count": 154,
   "metadata": {},
   "outputs": [
    {
     "name": "stdout",
     "output_type": "stream",
     "text": [
      "          \n",
      "         *  \n",
      "       *   *  \n",
      "     *   *   *  \n",
      "   *   *   *   *  \n"
     ]
    }
   ],
   "source": [
    "for i in range(n):\n",
    "    for j in range(n-i):\n",
    "        print(\" \", end =\" \")\n",
    "    for j in range(i):\n",
    "        print(\" * \", end =\" \")\n",
    "    print()"
   ]
  },
  {
   "cell_type": "code",
   "execution_count": 150,
   "metadata": {},
   "outputs": [
    {
     "name": "stdout",
     "output_type": "stream",
     "text": [
      "*****\n",
      "*   *\n",
      "*   *\n",
      "*   *\n",
      "*****\n"
     ]
    }
   ],
   "source": [
    "for i in range(n):\n",
    "    for j in range(n):\n",
    "        if(j == 0 or j == n-1 or i == 0 or i == n-1):\n",
    "            print(\"*\", end = \"\")\n",
    "        else:\n",
    "            print(\" \", end=\"\")\n",
    "    print()"
   ]
  },
  {
   "cell_type": "code",
   "execution_count": 152,
   "metadata": {},
   "outputs": [
    {
     "name": "stdout",
     "output_type": "stream",
     "text": [
      "hello gyan\n"
     ]
    }
   ],
   "source": [
    "def greet(name):\n",
    "    print(f\"hello {name}\")\n",
    "greet(\"gyan\")"
   ]
  }
 ],
 "metadata": {
  "kernelspec": {
   "display_name": "Python 3 (ipykernel)",
   "language": "python",
   "name": "python3"
  },
  "language_info": {
   "codemirror_mode": {
    "name": "ipython",
    "version": 3
   },
   "file_extension": ".py",
   "mimetype": "text/x-python",
   "name": "python",
   "nbconvert_exporter": "python",
   "pygments_lexer": "ipython3",
   "version": "3.9.12"
  }
 },
 "nbformat": 4,
 "nbformat_minor": 4
}
