{
 "cells": [
  {
   "cell_type": "markdown",
   "metadata": {},
   "source": [
    "# Introduction to Python - day 5 - File handling\n",
    "### Gyan Krishna - 534 \n",
    "### Date - 19/9/2022"
   ]
  },
  {
   "cell_type": "markdown",
   "metadata": {},
   "source": [
    "### File modes:- \n",
    "<pre>\n",
    "1. r          - read mode - default mode\n",
    "2. w          - write mode (over write file)\n",
    "3. x          - create mode\n",
    "4. r+, w+     - read and write mode\n",
    "5. a          - append mode\n",
    "6. a+         - append for read and write.\n",
    "\n",
    "1. t - text mode\n",
    "2. b - binary mode\n",
    "</pre>"
   ]
  },
  {
   "cell_type": "code",
   "execution_count": 10,
   "metadata": {},
   "outputs": [],
   "source": [
    "f = open('a.txt', 'x')\n",
    "f.close()"
   ]
  },
  {
   "cell_type": "code",
   "execution_count": 15,
   "metadata": {},
   "outputs": [
    {
     "name": "stdout",
     "output_type": "stream",
     "text": [
      "hello world\n",
      "intro to file handling\n"
     ]
    }
   ],
   "source": [
    "with open('a.txt', 'r') as f:\n",
    "    text = f.read()\n",
    "    print(text)\n",
    "    f.close()"
   ]
  },
  {
   "cell_type": "code",
   "execution_count": 57,
   "metadata": {},
   "outputs": [],
   "source": [
    "f = open('a.txt', 'w+')\n",
    "line1 = 'hello world'\n",
    "line2 = '\\nintro to file handling'\n",
    "f.write(line1)\n",
    "f.write(line2)\n",
    "f.close()"
   ]
  },
  {
   "cell_type": "code",
   "execution_count": 40,
   "metadata": {},
   "outputs": [
    {
     "name": "stdout",
     "output_type": "stream",
     "text": [
      "hello world\n",
      "intro to file handling\n",
      "hello world2\n",
      "intro to file handling2"
     ]
    }
   ],
   "source": [
    "with open('a.txt', 'r') as f:\n",
    "    t = f.readline()\n",
    "    while(t):\n",
    "        print(t, end = \"\")\n",
    "        t = f.readline()\n",
    "    f.close()"
   ]
  },
  {
   "cell_type": "code",
   "execution_count": 48,
   "metadata": {},
   "outputs": [
    {
     "name": "stdout",
     "output_type": "stream",
     "text": [
      "0: hello world\n",
      "1: intro to file handling\n",
      "2: hello world2\n",
      "3: intro to file handling2\n",
      "4: hello world2\n",
      "5: intro to file handling2"
     ]
    }
   ],
   "source": [
    "with open('a.txt', 'r') as f:\n",
    "    t = f.readlines()\n",
    "    for i, l in enumerate(t):\n",
    "        print(f'{i}: {l}', end = \"\")\n",
    "    f.close()"
   ]
  },
  {
   "cell_type": "code",
   "execution_count": 50,
   "metadata": {},
   "outputs": [
    {
     "name": "stdout",
     "output_type": "stream",
     "text": [
      "file name=  a.txt\n",
      "is file closed?  False\n",
      "is file closed?  True\n"
     ]
    }
   ],
   "source": [
    "f = open('a.txt', 'a+')\n",
    "print(\"file name= \", f.name)\n",
    "print(\"is file closed? \", f.closed)\n",
    "f.close()\n",
    "print(\"is file closed? \", f.closed)"
   ]
  },
  {
   "cell_type": "code",
   "execution_count": 71,
   "metadata": {},
   "outputs": [
    {
     "name": "stdout",
     "output_type": "stream",
     "text": [
      "hello\n",
      "world\n",
      "intro\n",
      "to\n",
      "file\n",
      "handling\n",
      "\n"
     ]
    }
   ],
   "source": [
    "f = open('a.txt', 'r')\n",
    "for line in f.readlines():\n",
    "    for word in line.split():\n",
    "        print(word)\n",
    "print(f.read())"
   ]
  },
  {
   "cell_type": "code",
   "execution_count": 73,
   "metadata": {},
   "outputs": [
    {
     "name": "stdout",
     "output_type": "stream",
     "text": [
      "hello\n",
      "world\n",
      "intro\n",
      "to\n",
      "file\n",
      "handling\n",
      "\n"
     ]
    }
   ],
   "source": [
    "f = open('a.txt', 'r')\n",
    "for line in f.readlines():\n",
    "    for word in line.split():\n",
    "        print(word)\n",
    "print(f.read())"
   ]
  },
  {
   "cell_type": "code",
   "execution_count": 84,
   "metadata": {},
   "outputs": [
    {
     "name": "stdout",
     "output_type": "stream",
     "text": [
      "hello world\n",
      "intro to file handling\n",
      "----------------------\n",
      "hello\n",
      "5\n",
      "----------------------\n",
      "ld\n",
      "intro to file handling\n",
      "----------------------\n",
      "o world\n",
      "intro to file handling\n"
     ]
    }
   ],
   "source": [
    "f = open('a.txt', 'r')\n",
    "print(f.read())\n",
    "f.seek(0)\n",
    "print('----------------------')\n",
    "print(f.read(5))  #read 5 char\n",
    "print(f.tell())   #current pos\n",
    "print('----------------------')\n",
    "f.seek(9, 0) #move 9 pos from beginning\n",
    "print(f.read())\n",
    "print('----------------------')\n",
    "f.seek(4, 0) # move to 5 pos from curr loc\n",
    "print(f.read())\n",
    "f.close()"
   ]
  }
 ],
 "metadata": {
  "kernelspec": {
   "display_name": "Python 3",
   "language": "python",
   "name": "python3"
  },
  "language_info": {
   "codemirror_mode": {
    "name": "ipython",
    "version": 3
   },
   "file_extension": ".py",
   "mimetype": "text/x-python",
   "name": "python",
   "nbconvert_exporter": "python",
   "pygments_lexer": "ipython3",
   "version": "3.7.1"
  }
 },
 "nbformat": 4,
 "nbformat_minor": 2
}
