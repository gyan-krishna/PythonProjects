{
 "cells": [
  {
   "cell_type": "markdown",
   "metadata": {},
   "source": [
    "# Introduction to Python - virat kholi analysis\n",
    "### Gyan Krishna - 534 \n",
    "#### Date - 14/11/2022"
   ]
  },
  {
   "cell_type": "code",
   "execution_count": 2,
   "metadata": {},
   "outputs": [],
   "source": [
    "import pandas as pd\n",
    "import numpy as np\n",
    "import matplotlib.pyplot as plt"
   ]
  },
  {
   "cell_type": "code",
   "execution_count": 3,
   "metadata": {},
   "outputs": [],
   "source": [
    "path = r'vk/Virat_Kohli_ODI.csv'\n",
    "df = pd.read_csv(path)"
   ]
  },
  {
   "cell_type": "code",
   "execution_count": 4,
   "metadata": {},
   "outputs": [
    {
     "data": {
      "text/html": [
       "<div>\n",
       "<style scoped>\n",
       "    .dataframe tbody tr th:only-of-type {\n",
       "        vertical-align: middle;\n",
       "    }\n",
       "\n",
       "    .dataframe tbody tr th {\n",
       "        vertical-align: top;\n",
       "    }\n",
       "\n",
       "    .dataframe thead th {\n",
       "        text-align: right;\n",
       "    }\n",
       "</style>\n",
       "<table border=\"1\" class=\"dataframe\">\n",
       "  <thead>\n",
       "    <tr style=\"text-align: right;\">\n",
       "      <th></th>\n",
       "      <th>Runs</th>\n",
       "      <th>Mins</th>\n",
       "      <th>BF</th>\n",
       "      <th>4s</th>\n",
       "      <th>6s</th>\n",
       "      <th>SR</th>\n",
       "      <th>Pos</th>\n",
       "      <th>Dismissal</th>\n",
       "      <th>Inns</th>\n",
       "      <th>Opposition</th>\n",
       "      <th>Ground</th>\n",
       "      <th>Start Date</th>\n",
       "    </tr>\n",
       "  </thead>\n",
       "  <tbody>\n",
       "    <tr>\n",
       "      <th>0</th>\n",
       "      <td>12</td>\n",
       "      <td>33</td>\n",
       "      <td>22</td>\n",
       "      <td>1</td>\n",
       "      <td>0</td>\n",
       "      <td>54.54</td>\n",
       "      <td>2</td>\n",
       "      <td>lbw</td>\n",
       "      <td>1</td>\n",
       "      <td>v Sri Lanka</td>\n",
       "      <td>Dambulla</td>\n",
       "      <td>18-Aug-08</td>\n",
       "    </tr>\n",
       "    <tr>\n",
       "      <th>1</th>\n",
       "      <td>37</td>\n",
       "      <td>82</td>\n",
       "      <td>67</td>\n",
       "      <td>6</td>\n",
       "      <td>0</td>\n",
       "      <td>55.22</td>\n",
       "      <td>2</td>\n",
       "      <td>caught</td>\n",
       "      <td>2</td>\n",
       "      <td>v Sri Lanka</td>\n",
       "      <td>Dambulla</td>\n",
       "      <td>20-Aug-08</td>\n",
       "    </tr>\n",
       "    <tr>\n",
       "      <th>2</th>\n",
       "      <td>25</td>\n",
       "      <td>40</td>\n",
       "      <td>38</td>\n",
       "      <td>4</td>\n",
       "      <td>0</td>\n",
       "      <td>65.78</td>\n",
       "      <td>1</td>\n",
       "      <td>run out</td>\n",
       "      <td>1</td>\n",
       "      <td>v Sri Lanka</td>\n",
       "      <td>Colombo (RPS)</td>\n",
       "      <td>24-Aug-08</td>\n",
       "    </tr>\n",
       "    <tr>\n",
       "      <th>3</th>\n",
       "      <td>54</td>\n",
       "      <td>87</td>\n",
       "      <td>66</td>\n",
       "      <td>7</td>\n",
       "      <td>0</td>\n",
       "      <td>81.81</td>\n",
       "      <td>1</td>\n",
       "      <td>bowled</td>\n",
       "      <td>1</td>\n",
       "      <td>v Sri Lanka</td>\n",
       "      <td>Colombo (RPS)</td>\n",
       "      <td>27-Aug-08</td>\n",
       "    </tr>\n",
       "    <tr>\n",
       "      <th>4</th>\n",
       "      <td>31</td>\n",
       "      <td>45</td>\n",
       "      <td>46</td>\n",
       "      <td>3</td>\n",
       "      <td>1</td>\n",
       "      <td>67.39</td>\n",
       "      <td>1</td>\n",
       "      <td>lbw</td>\n",
       "      <td>2</td>\n",
       "      <td>v Sri Lanka</td>\n",
       "      <td>Colombo (RPS)</td>\n",
       "      <td>29-Aug-08</td>\n",
       "    </tr>\n",
       "  </tbody>\n",
       "</table>\n",
       "</div>"
      ],
      "text/plain": [
       "  Runs Mins  BF  4s  6s     SR  Pos Dismissal  Inns   Opposition  \\\n",
       "0   12   33  22   1   0  54.54    2       lbw     1  v Sri Lanka   \n",
       "1   37   82  67   6   0  55.22    2    caught     2  v Sri Lanka   \n",
       "2   25   40  38   4   0  65.78    1   run out     1  v Sri Lanka   \n",
       "3   54   87  66   7   0  81.81    1    bowled     1  v Sri Lanka   \n",
       "4   31   45  46   3   1  67.39    1       lbw     2  v Sri Lanka   \n",
       "\n",
       "          Ground Start Date  \n",
       "0       Dambulla  18-Aug-08  \n",
       "1       Dambulla  20-Aug-08  \n",
       "2  Colombo (RPS)  24-Aug-08  \n",
       "3  Colombo (RPS)  27-Aug-08  \n",
       "4  Colombo (RPS)  29-Aug-08  "
      ]
     },
     "execution_count": 4,
     "metadata": {},
     "output_type": "execute_result"
    }
   ],
   "source": [
    "df.head()"
   ]
  },
  {
   "cell_type": "code",
   "execution_count": 51,
   "metadata": {},
   "outputs": [
    {
     "name": "stdout",
     "output_type": "stream",
     "text": [
      "132\n",
      "6184\n",
      "46.84848484848485\n"
     ]
    }
   ],
   "source": [
    "# all runs scored by kholi\n",
    "runs = df['Runs'].str.replace('*', '').astype(int)\n",
    "total = runs.sum()\n",
    "avg = total/len(runs)\n",
    "\n",
    "print(len(runs))\n",
    "print(total)\n",
    "print(avg)"
   ]
  },
  {
   "cell_type": "code",
   "execution_count": 27,
   "metadata": {},
   "outputs": [
    {
     "data": {
      "text/html": [
       "<div>\n",
       "<style scoped>\n",
       "    .dataframe tbody tr th:only-of-type {\n",
       "        vertical-align: middle;\n",
       "    }\n",
       "\n",
       "    .dataframe tbody tr th {\n",
       "        vertical-align: top;\n",
       "    }\n",
       "\n",
       "    .dataframe thead th {\n",
       "        text-align: right;\n",
       "    }\n",
       "</style>\n",
       "<table border=\"1\" class=\"dataframe\">\n",
       "  <thead>\n",
       "    <tr style=\"text-align: right;\">\n",
       "      <th></th>\n",
       "      <th>Runs</th>\n",
       "      <th>Mins</th>\n",
       "      <th>BF</th>\n",
       "      <th>4s</th>\n",
       "      <th>6s</th>\n",
       "      <th>SR</th>\n",
       "      <th>Pos</th>\n",
       "      <th>Dismissal</th>\n",
       "      <th>Inns</th>\n",
       "      <th>Opposition</th>\n",
       "      <th>Ground</th>\n",
       "      <th>Start Date</th>\n",
       "    </tr>\n",
       "  </thead>\n",
       "  <tbody>\n",
       "    <tr>\n",
       "      <th>count</th>\n",
       "      <td>132</td>\n",
       "      <td>132</td>\n",
       "      <td>132</td>\n",
       "      <td>132</td>\n",
       "      <td>132</td>\n",
       "      <td>132</td>\n",
       "      <td>132</td>\n",
       "      <td>132</td>\n",
       "      <td>132</td>\n",
       "      <td>132</td>\n",
       "      <td>132</td>\n",
       "      <td>132</td>\n",
       "    </tr>\n",
       "    <tr>\n",
       "      <th>unique</th>\n",
       "      <td>1</td>\n",
       "      <td>1</td>\n",
       "      <td>1</td>\n",
       "      <td>1</td>\n",
       "      <td>1</td>\n",
       "      <td>1</td>\n",
       "      <td>1</td>\n",
       "      <td>1</td>\n",
       "      <td>1</td>\n",
       "      <td>1</td>\n",
       "      <td>1</td>\n",
       "      <td>1</td>\n",
       "    </tr>\n",
       "    <tr>\n",
       "      <th>top</th>\n",
       "      <td>False</td>\n",
       "      <td>False</td>\n",
       "      <td>False</td>\n",
       "      <td>False</td>\n",
       "      <td>False</td>\n",
       "      <td>False</td>\n",
       "      <td>False</td>\n",
       "      <td>False</td>\n",
       "      <td>False</td>\n",
       "      <td>False</td>\n",
       "      <td>False</td>\n",
       "      <td>False</td>\n",
       "    </tr>\n",
       "    <tr>\n",
       "      <th>freq</th>\n",
       "      <td>132</td>\n",
       "      <td>132</td>\n",
       "      <td>132</td>\n",
       "      <td>132</td>\n",
       "      <td>132</td>\n",
       "      <td>132</td>\n",
       "      <td>132</td>\n",
       "      <td>132</td>\n",
       "      <td>132</td>\n",
       "      <td>132</td>\n",
       "      <td>132</td>\n",
       "      <td>132</td>\n",
       "    </tr>\n",
       "  </tbody>\n",
       "</table>\n",
       "</div>"
      ],
      "text/plain": [
       "         Runs   Mins     BF     4s     6s     SR    Pos Dismissal   Inns  \\\n",
       "count     132    132    132    132    132    132    132       132    132   \n",
       "unique      1      1      1      1      1      1      1         1      1   \n",
       "top     False  False  False  False  False  False  False     False  False   \n",
       "freq      132    132    132    132    132    132    132       132    132   \n",
       "\n",
       "       Opposition Ground Start Date  \n",
       "count         132    132        132  \n",
       "unique          1      1          1  \n",
       "top         False  False      False  \n",
       "freq          132    132        132  "
      ]
     },
     "execution_count": 27,
     "metadata": {},
     "output_type": "execute_result"
    }
   ],
   "source": [
    "df.isna().describe()"
   ]
  },
  {
   "cell_type": "markdown",
   "metadata": {},
   "source": [
    "4.\tNow find the trend of runs scored by Virat Kohli in his career from 18 August 2008 to 22 January 2017."
   ]
  },
  {
   "cell_type": "code",
   "execution_count": 61,
   "metadata": {},
   "outputs": [
    {
     "data": {
      "text/plain": [
       "<matplotlib.axes._subplots.AxesSubplot at 0x9447e10>"
      ]
     },
     "execution_count": 61,
     "metadata": {},
     "output_type": "execute_result"
    },
    {
     "data": {
      "image/png": "[encoded data removed]",
      "text/plain": [
       "<Figure size 432x288 with 1 Axes>"
      ]
     },
     "metadata": {
      "needs_background": "light"
     },
     "output_type": "display_data"
    }
   ],
   "source": [
    "df1 = df[df['Start Date'] > '18-Aug-08']\n",
    "df1 = df1[df1['Start Date'] > '22-Jan-17']\n",
    "df1['Runs'].str.replace('*', '').astype(int).plot()"
   ]
  },
  {
   "cell_type": "markdown",
   "metadata": {},
   "source": [
    "Also, check in so many innings played by Virat Kohli"
   ]
  },
  {
   "cell_type": "code",
   "execution_count": 65,
   "metadata": {},
   "outputs": [
    {
     "data": {
      "text/plain": [
       "2    41\n",
       "1    27\n",
       "Name: Inns, dtype: int64"
      ]
     },
     "execution_count": 65,
     "metadata": {},
     "output_type": "execute_result"
    }
   ],
   "source": [
    "df1['Inns'].value_counts()"
   ]
  },
  {
   "cell_type": "code",
   "execution_count": 66,
   "metadata": {},
   "outputs": [
    {
     "data": {
      "text/html": [
       "<div>\n",
       "<style scoped>\n",
       "    .dataframe tbody tr th:only-of-type {\n",
       "        vertical-align: middle;\n",
       "    }\n",
       "\n",
       "    .dataframe tbody tr th {\n",
       "        vertical-align: top;\n",
       "    }\n",
       "\n",
       "    .dataframe thead th {\n",
       "        text-align: right;\n",
       "    }\n",
       "</style>\n",
       "<table border=\"1\" class=\"dataframe\">\n",
       "  <thead>\n",
       "    <tr style=\"text-align: right;\">\n",
       "      <th></th>\n",
       "      <th>Runs</th>\n",
       "      <th>Mins</th>\n",
       "      <th>BF</th>\n",
       "      <th>4s</th>\n",
       "      <th>6s</th>\n",
       "      <th>SR</th>\n",
       "      <th>Pos</th>\n",
       "      <th>Dismissal</th>\n",
       "      <th>Inns</th>\n",
       "      <th>Opposition</th>\n",
       "      <th>Ground</th>\n",
       "      <th>Start Date</th>\n",
       "    </tr>\n",
       "  </thead>\n",
       "  <tbody>\n",
       "    <tr>\n",
       "      <th>10</th>\n",
       "      <td>107</td>\n",
       "      <td>-</td>\n",
       "      <td>114</td>\n",
       "      <td>11</td>\n",
       "      <td>1</td>\n",
       "      <td>93.85</td>\n",
       "      <td>4</td>\n",
       "      <td>caught</td>\n",
       "      <td>2</td>\n",
       "      <td>v Sri Lanka</td>\n",
       "      <td>Kolkata</td>\n",
       "      <td>24-Dec-09</td>\n",
       "    </tr>\n",
       "    <tr>\n",
       "      <th>22</th>\n",
       "      <td>105</td>\n",
       "      <td>162</td>\n",
       "      <td>104</td>\n",
       "      <td>10</td>\n",
       "      <td>0</td>\n",
       "      <td>100.96</td>\n",
       "      <td>3</td>\n",
       "      <td>caught</td>\n",
       "      <td>1</td>\n",
       "      <td>v New Zealand</td>\n",
       "      <td>Guwahati</td>\n",
       "      <td>28-Nov-10</td>\n",
       "    </tr>\n",
       "    <tr>\n",
       "      <th>66</th>\n",
       "      <td>128*</td>\n",
       "      <td>187</td>\n",
       "      <td>119</td>\n",
       "      <td>12</td>\n",
       "      <td>1</td>\n",
       "      <td>107.56</td>\n",
       "      <td>3</td>\n",
       "      <td>not out</td>\n",
       "      <td>2</td>\n",
       "      <td>v Sri Lanka</td>\n",
       "      <td>Colombo (RPS)</td>\n",
       "      <td>31-Jul-12</td>\n",
       "    </tr>\n",
       "    <tr>\n",
       "      <th>78</th>\n",
       "      <td>102</td>\n",
       "      <td>120</td>\n",
       "      <td>83</td>\n",
       "      <td>13</td>\n",
       "      <td>2</td>\n",
       "      <td>122.89</td>\n",
       "      <td>3</td>\n",
       "      <td>caught</td>\n",
       "      <td>1</td>\n",
       "      <td>v West Indies</td>\n",
       "      <td>Port of Spain</td>\n",
       "      <td>5-Jul-13</td>\n",
       "    </tr>\n",
       "    <tr>\n",
       "      <th>79</th>\n",
       "      <td>115</td>\n",
       "      <td>133</td>\n",
       "      <td>108</td>\n",
       "      <td>13</td>\n",
       "      <td>1</td>\n",
       "      <td>106.48</td>\n",
       "      <td>3</td>\n",
       "      <td>caught</td>\n",
       "      <td>2</td>\n",
       "      <td>v Zimbabwe</td>\n",
       "      <td>Harare</td>\n",
       "      <td>24-Jul-13</td>\n",
       "    </tr>\n",
       "    <tr>\n",
       "      <th>85</th>\n",
       "      <td>115*</td>\n",
       "      <td>104</td>\n",
       "      <td>66</td>\n",
       "      <td>18</td>\n",
       "      <td>1</td>\n",
       "      <td>174.24</td>\n",
       "      <td>3</td>\n",
       "      <td>not out</td>\n",
       "      <td>2</td>\n",
       "      <td>v Australia</td>\n",
       "      <td>Nagpur</td>\n",
       "      <td>30-Oct-13</td>\n",
       "    </tr>\n",
       "    <tr>\n",
       "      <th>96</th>\n",
       "      <td>136</td>\n",
       "      <td>157</td>\n",
       "      <td>122</td>\n",
       "      <td>16</td>\n",
       "      <td>2</td>\n",
       "      <td>111.47</td>\n",
       "      <td>3</td>\n",
       "      <td>bowled</td>\n",
       "      <td>2</td>\n",
       "      <td>v Bangladesh</td>\n",
       "      <td>Fatullah</td>\n",
       "      <td>26-Feb-14</td>\n",
       "    </tr>\n",
       "    <tr>\n",
       "      <th>117</th>\n",
       "      <td>138</td>\n",
       "      <td>202</td>\n",
       "      <td>140</td>\n",
       "      <td>6</td>\n",
       "      <td>5</td>\n",
       "      <td>98.57</td>\n",
       "      <td>3</td>\n",
       "      <td>caught</td>\n",
       "      <td>1</td>\n",
       "      <td>v South Africa</td>\n",
       "      <td>Chennai</td>\n",
       "      <td>22-Oct-15</td>\n",
       "    </tr>\n",
       "    <tr>\n",
       "      <th>126</th>\n",
       "      <td>154*</td>\n",
       "      <td>202</td>\n",
       "      <td>134</td>\n",
       "      <td>16</td>\n",
       "      <td>1</td>\n",
       "      <td>114.92</td>\n",
       "      <td>3</td>\n",
       "      <td>not out</td>\n",
       "      <td>2</td>\n",
       "      <td>v New Zealand</td>\n",
       "      <td>Mohali</td>\n",
       "      <td>23-Oct-16</td>\n",
       "    </tr>\n",
       "  </tbody>\n",
       "</table>\n",
       "</div>"
      ],
      "text/plain": [
       "     Runs Mins   BF  4s  6s      SR  Pos Dismissal  Inns      Opposition  \\\n",
       "10    107    -  114  11   1   93.85    4    caught     2     v Sri Lanka   \n",
       "22    105  162  104  10   0  100.96    3    caught     1   v New Zealand   \n",
       "66   128*  187  119  12   1  107.56    3   not out     2     v Sri Lanka   \n",
       "78    102  120   83  13   2  122.89    3    caught     1   v West Indies   \n",
       "79    115  133  108  13   1  106.48    3    caught     2      v Zimbabwe   \n",
       "85   115*  104   66  18   1  174.24    3   not out     2     v Australia   \n",
       "96    136  157  122  16   2  111.47    3    bowled     2    v Bangladesh   \n",
       "117   138  202  140   6   5   98.57    3    caught     1  v South Africa   \n",
       "126  154*  202  134  16   1  114.92    3   not out     2   v New Zealand   \n",
       "\n",
       "            Ground Start Date  \n",
       "10         Kolkata  24-Dec-09  \n",
       "22        Guwahati  28-Nov-10  \n",
       "66   Colombo (RPS)  31-Jul-12  \n",
       "78   Port of Spain   5-Jul-13  \n",
       "79          Harare  24-Jul-13  \n",
       "85          Nagpur  30-Oct-13  \n",
       "96        Fatullah  26-Feb-14  \n",
       "117        Chennai  22-Oct-15  \n",
       "126         Mohali  23-Oct-16  "
      ]
     },
     "execution_count": 66,
     "metadata": {},
     "output_type": "execute_result"
    }
   ],
   "source": [
    "runs = df1['Runs'].str.replace('*', '').astype(int)\n",
    "df1[runs > 100]"
   ]
  },
  {
   "cell_type": "code",
   "execution_count": 95,
   "metadata": {},
   "outputs": [
    {
     "data": {
      "text/plain": [
       "([<matplotlib.patches.Wedge at 0xb23fda0>,\n",
       "  <matplotlib.patches.Wedge at 0xb24a358>,\n",
       "  <matplotlib.patches.Wedge at 0xb24a860>,\n",
       "  <matplotlib.patches.Wedge at 0xb24ad68>,\n",
       "  <matplotlib.patches.Wedge at 0xb2542b0>,\n",
       "  <matplotlib.patches.Wedge at 0xb2547b8>],\n",
       " [Text(-0.7027314116446659, 0.846267430005371, '3'),\n",
       "  Text(0.4443129390988991, -1.0062733287478598, '4'),\n",
       "  Text(1.0062731883492282, -0.44431325707149344, '1'),\n",
       "  Text(1.0707818227370784, -0.2518457625132098, '6'),\n",
       "  Text(1.08945145165199, -0.15197215038740478, '5'),\n",
       "  Text(1.0988262648419667, -0.05080196544871209, '2')])"
      ]
     },
     "execution_count": 95,
     "metadata": {},
     "output_type": "execute_result"
    },
    {
     "data": {
      "image/png": "[encoded data removed]",
      "text/plain": [
       "<Figure size 432x288 with 1 Axes>"
      ]
     },
     "metadata": {},
     "output_type": "display_data"
    }
   ],
   "source": [
    "data = df1['Pos'].value_counts()\n",
    "l = df1['Pos'].value_counts().index\n",
    "plt.pie(df1['Pos'].value_counts(), labels = l)"
   ]
  },
  {
   "cell_type": "code",
   "execution_count": 120,
   "metadata": {},
   "outputs": [
    {
     "data": {
      "text/plain": [
       "<BarContainer object of 7 artists>"
      ]
     },
     "execution_count": 120,
     "metadata": {},
     "output_type": "execute_result"
    },
    {
     "data": {
      "image/png": "[encoded data removed]",
      "text/plain": [
       "<Figure size 432x288 with 1 Axes>"
      ]
     },
     "metadata": {
      "needs_background": "light"
     },
     "output_type": "display_data"
    }
   ],
   "source": [
    "l = df['Pos'].value_counts().index\n",
    "counts = []\n",
    "\n",
    "for i in l:\n",
    "    x = df[df['Pos'] == i]\n",
    "    s = x['Runs'].str.replace('*', '').astype(int).sum()\n",
    "    counts.append(s)\n",
    "plt.bar(l, counts)"
   ]
  },
  {
   "cell_type": "code",
   "execution_count": 144,
   "metadata": {},
   "outputs": [
    {
     "name": "stdout",
     "output_type": "stream",
     "text": [
      "centuries in 1st and 2nd innings =  23\n"
     ]
    }
   ],
   "source": [
    "df2 = df[df['Inns'] == 1]\n",
    "df3 = df[df['Inns'] == 2]\n",
    " \n",
    "df2 = df2[df2['Runs'].str.replace('*', '').astype(int) >= 100]\n",
    "c1 = df2['Runs'].count()\n",
    "\n",
    " \n",
    "df3 = df3[df3['Runs'].str.replace('*', '').astype(int) >= 100]\n",
    "c2 = df3['Runs'].count()\n",
    "\n",
    "c = c1 + c2\n",
    "print('centuries in 1st and 2nd innings = ', c)"
   ]
  },
  {
   "cell_type": "code",
   "execution_count": 152,
   "metadata": {},
   "outputs": [
    {
     "data": {
      "text/plain": [
       "([<matplotlib.patches.Wedge at 0xb45def0>,\n",
       "  <matplotlib.patches.Wedge at 0xb465470>,\n",
       "  <matplotlib.patches.Wedge at 0xb465940>,\n",
       "  <matplotlib.patches.Wedge at 0xb465e10>,\n",
       "  <matplotlib.patches.Wedge at 0xb46f320>,\n",
       "  <matplotlib.patches.Wedge at 0xb46f7f0>,\n",
       "  <matplotlib.patches.Wedge at 0xb46fcc0>],\n",
       " [Text(-0.45695648023571717, 1.000595210447554, 'caught'),\n",
       "  Text(-0.33493522473253934, -1.0477682927218992, 'not out'),\n",
       "  Text(0.3597746726464226, -1.0395009306980727, 'bowled'),\n",
       "  Text(0.7961073891508564, -0.7590869679683659, 'run out'),\n",
       "  Text(1.0477683005616236, -0.33493520020775275, 'lbw'),\n",
       "  Text(1.0971973222307052, -0.07847315521737476, 'stumped'),\n",
       "  Text(1.0996884729184175, -0.02617751956085334, 'hit wicket')])"
      ]
     },
     "execution_count": 152,
     "metadata": {},
     "output_type": "execute_result"
    },
    {
     "data": {
      "image/png": "[encoded data removed]",
      "text/plain": [
       "<Figure size 432x288 with 1 Axes>"
      ]
     },
     "metadata": {},
     "output_type": "display_data"
    }
   ],
   "source": [
    "d = df['Dismissal'].value_counts()\n",
    "l = df['Dismissal'].value_counts().index\n",
    "plt.pie(d, labels = l)"
   ]
  },
  {
   "cell_type": "code",
   "execution_count": 199,
   "metadata": {},
   "outputs": [
    {
     "name": "stdout",
     "output_type": "stream",
     "text": [
      "[1084, 830, 999, 1009, 558, 877, 544, 215, 22, 12, 34]\n",
      "Index(['v Sri Lanka', 'v England', 'v Australia', 'v West Indies',\n",
      "       'v South Africa', 'v New Zealand', 'v Bangladesh', 'v Zimbabwe',\n",
      "       'v Pakistan', 'v Netherlands', 'v Ireland'],\n",
      "      dtype='object')\n"
     ]
    },
    {
     "data": {
      "text/plain": [
       "<BarContainer object of 11 artists>"
      ]
     },
     "execution_count": 199,
     "metadata": {},
     "output_type": "execute_result"
    },
    {
     "data": {
      "image/png": "[encoded data removed]",
      "text/plain": [
       "<Figure size 720x504 with 1 Axes>"
      ]
     },
     "metadata": {
      "needs_background": "light"
     },
     "output_type": "display_data"
    }
   ],
   "source": [
    "opponents = df['Opposition'].value_counts().index\n",
    "scores = []\n",
    "\n",
    "for opp in opponents:\n",
    "    df2 = df[df['Opposition'] == opp]\n",
    "    s = df2['Runs'].str.replace('*', '').astype(int).sum()\n",
    "    scores.append(s)\n",
    "print(scores)\n",
    "print(opponents)\n",
    "plt.xticks(rotation=90)\n",
    "plt.bar(opponents, scores)"
   ]
  },
  {
   "cell_type": "code",
   "execution_count": 179,
   "metadata": {},
   "outputs": [
    {
     "name": "stdout",
     "output_type": "stream",
     "text": [
      "146.83833333333334\n",
      "183.27\n"
     ]
    }
   ],
   "source": [
    "df2 = df[df['SR'].str.replace('-', '0').astype(float) > 120]\n",
    "df3 = df2[df2['Inns'] == 1]\n",
    "df4 = df2[df2['Inns'] == 2]\n",
    "\n",
    "sr1 = df3['SR'].str.replace('-', '0').astype(float).mean()\n",
    "sr2 = df4['SR'].str.replace('-', '0').astype(float).mean()\n",
    "\n",
    "print(sr1)\n",
    "print(sr2)"
   ]
  },
  {
   "cell_type": "code",
   "execution_count": 197,
   "metadata": {},
   "outputs": [
    {
     "data": {
      "text/plain": [
       "<matplotlib.collections.PathCollection at 0xee82a58>"
      ]
     },
     "execution_count": 197,
     "metadata": {},
     "output_type": "execute_result"
    },
    {
     "data": {
      "image/png": "[encoded data removed]",
      "text/plain": [
       "<Figure size 720x504 with 2 Axes>"
      ]
     },
     "metadata": {
      "needs_background": "light"
     },
     "output_type": "display_data"
    }
   ],
   "source": [
    "df1 = df[df['Inns'] == 1]\n",
    "df2 = df[df['Inns'] == 2]\n",
    "\n",
    "plt.rcParams['figure.figsize'] = [10,7]\n",
    "plt.subplot(2,1, 1)\n",
    "plt.xticks(rotation=90)\n",
    "plt.scatter(df1['Runs'], df1['4s'])\n",
    "plt.subplot(2,1, 2)\n",
    "plt.xticks(rotation=90)\n",
    "plt.scatter(df2['Runs'], df2['4s'])"
   ]
  }
 ],
 "metadata": {
  "kernelspec": {
   "display_name": "Python 3",
   "language": "python",
   "name": "python3"
  },
  "language_info": {
   "codemirror_mode": {
    "name": "ipython",
    "version": 3
   },
   "file_extension": ".py",
   "mimetype": "text/x-python",
   "name": "python",
   "nbconvert_exporter": "python",
   "pygments_lexer": "ipython3",
   "version": "3.7.1"
  }
 },
 "nbformat": 4,
 "nbformat_minor": 2
}
