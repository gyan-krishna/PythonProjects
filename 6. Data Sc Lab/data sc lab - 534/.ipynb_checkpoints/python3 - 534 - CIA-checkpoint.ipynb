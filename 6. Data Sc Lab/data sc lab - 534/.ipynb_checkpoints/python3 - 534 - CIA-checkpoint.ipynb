{
 "cells": [
  {
   "cell_type": "markdown",
   "metadata": {},
   "source": [
    "# Introduction to Python - day 3 - CIA\n",
    "### Gyan Krishna - 534"
   ]
  },
  {
   "cell_type": "markdown",
   "metadata": {},
   "source": [
    "### Q1. wap to find largest of four numbers"
   ]
  },
  {
   "cell_type": "code",
   "execution_count": 1,
   "metadata": {},
   "outputs": [
    {
     "name": "stdin",
     "output_type": "stream",
     "text": [
      "enter a number 10\n",
      "enter a number 20\n",
      "enter a number 30\n",
      "enter a number 40\n"
     ]
    },
    {
     "name": "stdout",
     "output_type": "stream",
     "text": [
      "40\n"
     ]
    }
   ],
   "source": [
    "arr = []\n",
    "for i in range(4):\n",
    "    arr.append(int(input(\"enter a number\")))\n",
    "m = max(arr)\n",
    "print(m)"
   ]
  },
  {
   "cell_type": "markdown",
   "metadata": {},
   "source": [
    "### Q2. check if student has passed or not\n",
    "33% in all sub and 40% in total, and 3 sub"
   ]
  },
  {
   "cell_type": "code",
   "execution_count": 14,
   "metadata": {},
   "outputs": [
    {
     "name": "stdin",
     "output_type": "stream",
     "text": [
      "enter marks 60\n",
      "enter marks 70\n",
      "enter marks 80\n"
     ]
    },
    {
     "name": "stdout",
     "output_type": "stream",
     "text": [
      "pass score -> 70.0\n"
     ]
    }
   ],
   "source": [
    "marks = []\n",
    "flag = True\n",
    "\n",
    "for i in range(3):\n",
    "    marks.append(int(input(\"enter marks\")))\n",
    "\n",
    "for i in marks:\n",
    "    if(i < 33):\n",
    "        flag = False\n",
    "avg = sum(marks)/3\n",
    "\n",
    "if(avg < 40):\n",
    "    flag = False\n",
    "\n",
    "if(flag):\n",
    "    print(f\"pass score -> {avg}\")\n",
    "else:\n",
    "    print(f\"fail score -> {avg}\")"
   ]
  },
  {
   "cell_type": "markdown",
   "metadata": {},
   "source": [
    "### Q3. WAP to find weather given user name has less than 10 char"
   ]
  },
  {
   "cell_type": "code",
   "execution_count": 17,
   "metadata": {},
   "outputs": [
    {
     "name": "stdin",
     "output_type": "stream",
     "text": [
      "enter name helloworld\n"
     ]
    },
    {
     "name": "stdout",
     "output_type": "stream",
     "text": [
      "greater than 10 char in name\n"
     ]
    }
   ],
   "source": [
    "name = input(\"enter name\")\n",
    "if(len(name) < 10):\n",
    "    print(\"less than 10 char in name\")\n",
    "else:\n",
    "    print(\"greater than 10 char in name\")"
   ]
  },
  {
   "cell_type": "markdown",
   "metadata": {},
   "source": [
    "### Q4. WAP to see if a name is in a list or not"
   ]
  },
  {
   "cell_type": "code",
   "execution_count": 20,
   "metadata": {},
   "outputs": [
    {
     "name": "stdin",
     "output_type": "stream",
     "text": [
      "enter name bob\n"
     ]
    },
    {
     "name": "stdout",
     "output_type": "stream",
     "text": [
      "name is present\n"
     ]
    }
   ],
   "source": [
    "names = ['bob', 'alice', 'charlie']\n",
    "name = input(\"enter name\")\n",
    "if(name in names):\n",
    "    print('name is present')\n",
    "else:\n",
    "    print('name is not there')"
   ]
  },
  {
   "cell_type": "markdown",
   "metadata": {},
   "source": [
    "### Q5. wap to calc grade of a student\n",
    "90-100 - ex <br>\n",
    "90-90 - A <br>\n",
    "70-80 - B <br>"
   ]
  },
  {
   "cell_type": "code",
   "execution_count": 24,
   "metadata": {},
   "outputs": [
    {
     "name": "stdin",
     "output_type": "stream",
     "text": [
      "enter marks 90\n"
     ]
    },
    {
     "name": "stdout",
     "output_type": "stream",
     "text": [
      "A\n"
     ]
    }
   ],
   "source": [
    "m = int(input(\"enter marks\"))\n",
    "if(m > 90 and m <= 100):\n",
    "    print('Ex')\n",
    "elif(m > 80 and m <= 90):\n",
    "    print('A')\n",
    "elif(m > 70 and m <= 80):\n",
    "    print('B')\n",
    "else:\n",
    "    print('C')"
   ]
  },
  {
   "cell_type": "markdown",
   "metadata": {},
   "source": [
    "### Q6. See if string is talking abt harry"
   ]
  },
  {
   "cell_type": "code",
   "execution_count": 25,
   "metadata": {},
   "outputs": [
    {
     "name": "stdin",
     "output_type": "stream",
     "text": [
      "enter sentence hello harry\n"
     ]
    },
    {
     "name": "stdout",
     "output_type": "stream",
     "text": [
      "harry is there\n"
     ]
    }
   ],
   "source": [
    "name = input(\"enter sentence\")\n",
    "sp = name.split(' ')\n",
    "if('harry' in sp):\n",
    "    print('harry is there')\n",
    "else:\n",
    "    print('no harry')"
   ]
  },
  {
   "cell_type": "markdown",
   "metadata": {},
   "source": [
    "### Q7. convert temp from celcius to farenhiet and vice versa"
   ]
  },
  {
   "cell_type": "code",
   "execution_count": 26,
   "metadata": {},
   "outputs": [
    {
     "name": "stdin",
     "output_type": "stream",
     "text": [
      "enter temp in f 100\n"
     ]
    },
    {
     "name": "stdout",
     "output_type": "stream",
     "text": [
      "temp 37.77777777777778c\n"
     ]
    }
   ],
   "source": [
    "f = int(input(\"enter temp in f\"))\n",
    "c = (f-32)/9 * 5\n",
    "print(f'temp {c}c')"
   ]
  },
  {
   "cell_type": "code",
   "execution_count": 28,
   "metadata": {},
   "outputs": [
    {
     "name": "stdin",
     "output_type": "stream",
     "text": [
      "enter temp in c 10\n"
     ]
    },
    {
     "name": "stdout",
     "output_type": "stream",
     "text": [
      "temp 50.0f\n"
     ]
    }
   ],
   "source": [
    "c = int(input(\"enter temp in c\"))\n",
    "f = (c*9)/5+32\n",
    "print(f'temp {f}f')"
   ]
  },
  {
   "cell_type": "markdown",
   "metadata": {},
   "source": [
    "### Q9. convert num to bin, hex, oct"
   ]
  },
  {
   "cell_type": "code",
   "execution_count": 45,
   "metadata": {},
   "outputs": [
    {
     "name": "stdin",
     "output_type": "stream",
     "text": [
      "enter number 10\n",
      "enter base 8\n"
     ]
    },
    {
     "name": "stdout",
     "output_type": "stream",
     "text": [
      "21\n"
     ]
    }
   ],
   "source": [
    "n = int(input(\"enter number\"))\n",
    "b = int(input(\"enter base\"))\n",
    "\n",
    "nn = n\n",
    "cov = \"\"\n",
    "while(n > 0):\n",
    "    d = n%b\n",
    "    cov = cov + chr(d+48)\n",
    "    n = n // b\n",
    "print(cov)"
   ]
  },
  {
   "cell_type": "code",
   "execution_count": 51,
   "metadata": {},
   "outputs": [
    {
     "name": "stdin",
     "output_type": "stream",
     "text": [
      "enter number 20\n"
     ]
    },
    {
     "name": "stdout",
     "output_type": "stream",
     "text": [
      "octal num  = 0o24\n",
      "binary num = 0b10100 \n",
      "hex num = 0x14\n"
     ]
    }
   ],
   "source": [
    "# method 2\n",
    "n = int(input(\"enter number\"))\n",
    "print(f'octal num  = {oct(n)}')\n",
    "print(f'binary num = {bin(n)} ')\n",
    "print(f'hex num = {hex(n)}')"
   ]
  },
  {
   "cell_type": "markdown",
   "metadata": {},
   "source": [
    "### Q10. duck no - num with 0 in it"
   ]
  },
  {
   "cell_type": "code",
   "execution_count": 48,
   "metadata": {},
   "outputs": [
    {
     "name": "stdin",
     "output_type": "stream",
     "text": [
      "enter number 1230\n"
     ]
    },
    {
     "name": "stdout",
     "output_type": "stream",
     "text": [
      "duck num\n"
     ]
    }
   ],
   "source": [
    "n = input(\"enter number\")\n",
    "if('0' in n):\n",
    "    print('duck num')\n",
    "else:\n",
    "    print('not duck num')"
   ]
  },
  {
   "cell_type": "code",
   "execution_count": 49,
   "metadata": {},
   "outputs": [
    {
     "data": {
      "text/plain": [
       "'0o12'"
      ]
     },
     "execution_count": 49,
     "metadata": {},
     "output_type": "execute_result"
    }
   ],
   "source": [
    "oct(10)"
   ]
  }
 ],
 "metadata": {
  "kernelspec": {
   "display_name": "Python 3",
   "language": "python",
   "name": "python3"
  },
  "language_info": {
   "codemirror_mode": {
    "name": "ipython",
    "version": 3
   },
   "file_extension": ".py",
   "mimetype": "text/x-python",
   "name": "python",
   "nbconvert_exporter": "python",
   "pygments_lexer": "ipython3",
   "version": "3.7.1"
  }
 },
 "nbformat": 4,
 "nbformat_minor": 2
}
