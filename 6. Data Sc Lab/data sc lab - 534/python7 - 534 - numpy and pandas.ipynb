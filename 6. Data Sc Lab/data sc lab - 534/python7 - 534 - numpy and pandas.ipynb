{
 "cells": [
  {
   "cell_type": "markdown",
   "metadata": {},
   "source": [
    "# Introduction to Python - day 5 - numpy and pandas\n",
    "### Gyan Krishna - 534 \n",
    "### Date - 19/9/2022"
   ]
  },
  {
   "cell_type": "markdown",
   "metadata": {},
   "source": [
    "## Homogenous arrays"
   ]
  },
  {
   "cell_type": "code",
   "execution_count": 13,
   "metadata": {},
   "outputs": [
    {
     "name": "stdout",
     "output_type": "stream",
     "text": [
      "array('i', [1, 2, 3, 4])\n",
      "<class 'array.array'>\n"
     ]
    }
   ],
   "source": [
    "import array\n",
    "arr = array.array('i', [1,2,3,4])\n",
    "print(arr)\n",
    "print(type(arr))"
   ]
  },
  {
   "cell_type": "markdown",
   "metadata": {},
   "source": [
    "## Intro to numpy"
   ]
  },
  {
   "cell_type": "code",
   "execution_count": 3,
   "metadata": {},
   "outputs": [
    {
     "data": {
      "text/plain": [
       "'1.15.4'"
      ]
     },
     "execution_count": 3,
     "metadata": {},
     "output_type": "execute_result"
    }
   ],
   "source": [
    "import numpy as np\n",
    "np.__version__"
   ]
  },
  {
   "cell_type": "markdown",
   "metadata": {},
   "source": [
    "## Creation of numpy array and attributes "
   ]
  },
  {
   "cell_type": "code",
   "execution_count": 71,
   "metadata": {},
   "outputs": [
    {
     "name": "stdout",
     "output_type": "stream",
     "text": [
      "[1 2 3 4 5]\n",
      "1\n",
      "5\n",
      "(5,)\n",
      "4\n",
      "20\n",
      "<class 'numpy.ndarray'>\n"
     ]
    }
   ],
   "source": [
    "arr = np.array([1,2,3,4,5])\n",
    "print(arr)\n",
    "print(arr.ndim)\n",
    "print(arr.size)\n",
    "print(arr.shape)\n",
    "print(arr.itemsize)\n",
    "print(arr.nbytes)\n",
    "print(type(arr))"
   ]
  },
  {
   "cell_type": "markdown",
   "metadata": {},
   "source": [
    "## data type of numpy arrays"
   ]
  },
  {
   "cell_type": "code",
   "execution_count": 69,
   "metadata": {},
   "outputs": [
    {
     "name": "stdout",
     "output_type": "stream",
     "text": [
      "<class 'numpy.ndarray'>\n",
      "[1. 2. 3. 4.]\n",
      "[1. 2. 3. 4.]\n",
      "[1 2 3 4]\n"
     ]
    }
   ],
   "source": [
    "a = np.array([1,2,3.0, 4.0]) #everything made float\n",
    "b = np.array([1,2,3.0, 4.0], dtype = 'float32')\n",
    "c = np.array([1,2,3.0, 4.0], dtype = np.int)\n",
    "print(type(a))\n",
    "print(a)\n",
    "print(b)\n",
    "print(c)"
   ]
  },
  {
   "cell_type": "markdown",
   "metadata": {},
   "source": [
    "## multidimensional arrays"
   ]
  },
  {
   "cell_type": "code",
   "execution_count": 28,
   "metadata": {},
   "outputs": [
    {
     "name": "stdout",
     "output_type": "stream",
     "text": [
      "[[2 3 4]\n",
      " [4 5 6]\n",
      " [6 7 8]]\n"
     ]
    }
   ],
   "source": [
    "x = np.array([range(i, i+3) for i in [2,4,6]])\n",
    "print(x)"
   ]
  },
  {
   "cell_type": "markdown",
   "metadata": {},
   "source": [
    "## creation of arrays"
   ]
  },
  {
   "cell_type": "code",
   "execution_count": 68,
   "metadata": {},
   "outputs": [
    {
     "name": "stdout",
     "output_type": "stream",
     "text": [
      "[0 0 0 0]\n",
      "--------------------------------------------------\n",
      "[1. 1. 1.]\n",
      "--------------------------------------------------\n",
      "[[3.14 3.14 3.14 3.14 3.14]\n",
      " [3.14 3.14 3.14 3.14 3.14]\n",
      " [3.14 3.14 3.14 3.14 3.14]]\n",
      "--------------------------------------------------\n",
      "[ 0  2  4  6  8 10 12 14 16 18]\n",
      "--------------------------------------------------\n",
      "[0.   0.25 0.5  0.75 1.  ]\n",
      "--------------------------------------------------\n",
      "[[0.22199317 0.87073231 0.20671916]\n",
      " [0.91861091 0.48841119 0.61174386]\n",
      " [0.76590786 0.51841799 0.2968005 ]]\n",
      "--------------------------------------------------\n",
      "[[1 5 7 0]\n",
      " [1 4 6 2]\n",
      " [9 9 9 9]\n",
      " [1 2 7 0]]\n",
      "--------------------------------------------------\n",
      "[[1 5 7 0]\n",
      " [1 4 6 2]\n",
      " [9 9 9 9]\n",
      " [1 2 7 0]]\n",
      "4.5\n",
      "--------------------------------------------------\n",
      "[[1 0 0 0]\n",
      " [0 1 0 0]\n",
      " [0 0 1 0]\n",
      " [0 0 0 1]]\n"
     ]
    }
   ],
   "source": [
    "x = np.zeros(4, dtype = 'int')\n",
    "print(x)\n",
    "print('-'*50)\n",
    "\n",
    "y = np.ones(3, dtype = 'float32')\n",
    "print(y)\n",
    "print('-'*50)\n",
    "\n",
    "z = np.full((3,5), 3.14) #creating filled array\n",
    "print(z)\n",
    "print('-'*50)\n",
    "\n",
    "a = np.arange(0, 20, 2) \n",
    "print(a)\n",
    "print('-'*50)\n",
    "\n",
    "b = np.linspace(0, 1, 5) #0, 1, = interval ; 5 = no of samples\n",
    "print(b)\n",
    "print('-'*50)\n",
    "\n",
    "np.random.seed(5)\n",
    "c = np.random.random((3,3)) # random b/w 0-1\n",
    "print(c)\n",
    "print('-'*50)\n",
    "\n",
    "d = np.random.randint(0, 10, (4, 4)) # random array of dimm 4x4 with numbers b/w 0 and 1\n",
    "print(d)\n",
    "print('-'*50)\n",
    "\n",
    "e = np.random.normal(0, 1, (3,3)) # resuultant array will have, mean = 0, sd = 1 , array dimm = 3x3\n",
    "print(d)\n",
    "print(d.mean())\n",
    "print('-'*50)\n",
    "\n",
    "f = np.eye(4, dtype = np.int) # identity matrix \n",
    "print(f) "
   ]
  },
  {
   "cell_type": "markdown",
   "metadata": {},
   "source": [
    "## Array indexing and slicing"
   ]
  },
  {
   "cell_type": "code",
   "execution_count": 88,
   "metadata": {},
   "outputs": [
    {
     "name": "stdout",
     "output_type": "stream",
     "text": [
      "[0 1 2 3 4 5 6 7 8]\n",
      "[1 3 5]\n",
      "[0 1 2 3 4]\n",
      "[0 2 4 6 8]\n",
      "[2 4 6 8]\n",
      "8\n",
      "[8 7 6 5 4 3 2 1 0]\n",
      "[5 4 3 2 1 0]\n",
      "--------------------------------------------------\n",
      "[[0 1 2]\n",
      " [3 4 5]]\n",
      "--------------------------------------------------\n",
      "[[0 2]\n",
      " [3 5]\n",
      " [6 8]]\n",
      "--------------------------------------------------\n",
      "[[8 7 6]\n",
      " [5 4 3]\n",
      " [2 1 0]]\n",
      "--------------------------------------------------\n"
     ]
    }
   ],
   "source": [
    "arr = np.array(range(9))\n",
    "print(arr)\n",
    "\n",
    "print(arr[1: 6: 2]) # start:end:step\n",
    "print(arr[:5])      # first 5 elements \n",
    "print(arr[::2])     # alternative elements from start to end  \n",
    "print(arr[2::2])    # altenate elements from 2 to end \n",
    "\n",
    "print(arr[-1])      # -ve indexing \n",
    "print(arr[::-1])    # reverse order\n",
    "print(arr[5::-1])   # revrse order from index 5\n",
    "print('-'*50)\n",
    "\n",
    "mat = arr.reshape((3,3))\n",
    "print(mat[:2, :3])\n",
    "print('-'*50)\n",
    "\n",
    "print(mat[:3, ::2]) #\n",
    "print('-'*50)\n",
    "\n",
    "print(mat[::-1, ::-1])\n",
    "print('-'*50)"
   ]
  },
  {
   "cell_type": "markdown",
   "metadata": {},
   "source": [
    "## sub arrays as no copy views\n",
    "\n",
    "Changes made in sub array will reflect in the original array"
   ]
  },
  {
   "cell_type": "code",
   "execution_count": 91,
   "metadata": {},
   "outputs": [
    {
     "name": "stdout",
     "output_type": "stream",
     "text": [
      "[[0 1]\n",
      " [3 4]]\n",
      "[[99  1  2]\n",
      " [ 3  4  5]\n",
      " [ 6  7  8]]\n"
     ]
    }
   ],
   "source": [
    "arr = np.array(range(9))\n",
    "arr = arr.reshape((3,3))\n",
    "arr_sub = arr[:2, :2]\n",
    "\n",
    "print(arr_sub)\n",
    "arr_sub[0,0] = 99\n",
    "\n",
    "print(arr)"
   ]
  },
  {
   "cell_type": "markdown",
   "metadata": {},
   "source": [
    "## Array reshaping"
   ]
  },
  {
   "cell_type": "code",
   "execution_count": 96,
   "metadata": {},
   "outputs": [
    {
     "name": "stdout",
     "output_type": "stream",
     "text": [
      "[1 2 3 4 5 6 7 8 9]\n",
      "[[1 2 3]\n",
      " [4 5 6]\n",
      " [7 8 9]]\n"
     ]
    }
   ],
   "source": [
    "arr = np.arange(1, 10)\n",
    "mat = arr.reshape((3,3))\n",
    "\n",
    "print(arr)\n",
    "print(mat)"
   ]
  },
  {
   "cell_type": "markdown",
   "metadata": {},
   "source": [
    "## Array concatenation"
   ]
  },
  {
   "cell_type": "code",
   "execution_count": 113,
   "metadata": {},
   "outputs": [
    {
     "name": "stdout",
     "output_type": "stream",
     "text": [
      "[0 1 2] [3 4 5]\n",
      "[0 1 2 3 4 5]\n",
      "[ 0  1  2  3  4  5 99 99 99]\n",
      "[[0 1 2]\n",
      " [3 4 5]\n",
      " [6 7 8]\n",
      " [0 1 2]]\n",
      "--------------------------------------------------\n"
     ]
    }
   ],
   "source": [
    "x = np.arange(0, 3)\n",
    "y = np.arange(3, 6)\n",
    "z = np.array([99, 99, 99])\n",
    "p = np.arange(0, 9).reshape(3,3)\n",
    "\n",
    "print(x, y)\n",
    "print(np.concatenate([x, y]))\n",
    "print(np.concatenate([x, y, z], axis = 0)) # try axis = 1 for 2d array\n",
    "\n",
    "print(np.vstack([p, x]))\n",
    "print('-'*50)\n",
    "\n",
    "#print(np.hstack([p, x]))\n",
    "#print('-'*50)"
   ]
  },
  {
   "cell_type": "markdown",
   "metadata": {},
   "source": [
    "## Array splitting"
   ]
  },
  {
   "cell_type": "code",
   "execution_count": 116,
   "metadata": {},
   "outputs": [
    {
     "name": "stdout",
     "output_type": "stream",
     "text": [
      "[0 1 2] [3 4] [5 6 7 8]\n",
      "[[0 1 2]\n",
      " [3 4 5]\n",
      " [6 7 8]]\n",
      "[[0 1 2]\n",
      " [3 4 5]] [[6 7 8]]\n"
     ]
    }
   ],
   "source": [
    "a = np.arange(0, 9)\n",
    "x, y, z = np.split(a, [3, 5])  # split as 0-3, 3-5, 5-end\n",
    "print(x, y, z)\n",
    "\n",
    "mat = np.arange(0, 9).reshape(3,3)\n",
    "print(mat)\n",
    "upper, lower = np.vsplit(mat, [2])\n",
    "print(upper, lower)"
   ]
  },
  {
   "cell_type": "markdown",
   "metadata": {},
   "source": [
    "## UFuncs\n",
    "used to quickly exec repeated opr on values of np arrays, <br>\n",
    "Ufunc can be unary or binary\n",
    "\n",
    "various u func are\n",
    "> np.add <br>\n",
    "> np.multiply <br>\n",
    "> np.substract <br>\n",
    "... etc"
   ]
  },
  {
   "cell_type": "code",
   "execution_count": 122,
   "metadata": {},
   "outputs": [
    {
     "name": "stdout",
     "output_type": "stream",
     "text": [
      "[0 1 2 3]\n",
      "[5 6 7 8]\n",
      "[-5 -4 -3 -2]\n",
      "[ 0  5 10 15]\n",
      "[0.  0.2 0.4 0.6]\n",
      "[0 0 0 0]\n",
      "[0 1 2 3]\n",
      "[  0   1  32 243]\n",
      "[0 1 2 3]\n",
      "[-1.   -2.25 -4.   -6.25]\n"
     ]
    }
   ],
   "source": [
    "x = np.arange(4)\n",
    "print(x)\n",
    "print(x + 5)\n",
    "print(x - 5)\n",
    "print(x * 5)\n",
    "print(x / 5)\n",
    "print(x // 5)\n",
    "print(x % 5)\n",
    "print(x ** 5)\n",
    "print(x % 5)\n",
    "\n",
    "\n",
    "print( -(0.5*x + 1)**2 )"
   ]
  },
  {
   "cell_type": "code",
   "execution_count": null,
   "metadata": {},
   "outputs": [],
   "source": []
  },
  {
   "cell_type": "code",
   "execution_count": null,
   "metadata": {},
   "outputs": [],
   "source": []
  }
 ],
 "metadata": {
  "kernelspec": {
   "display_name": "Python 3 (ipykernel)",
   "language": "python",
   "name": "python3"
  },
  "language_info": {
   "codemirror_mode": {
    "name": "ipython",
    "version": 3
   },
   "file_extension": ".py",
   "mimetype": "text/x-python",
   "name": "python",
   "nbconvert_exporter": "python",
   "pygments_lexer": "ipython3",
   "version": "3.9.12"
  }
 },
 "nbformat": 4,
 "nbformat_minor": 4
}
