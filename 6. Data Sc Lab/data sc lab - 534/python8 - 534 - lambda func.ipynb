{
 "cells": [
  {
   "cell_type": "markdown",
   "metadata": {},
   "source": [
    "# Introduction to Python - day 6 - lambda func\n",
    "### Gyan Krishna - 534 \n",
    "### Date - 26/9/2022"
   ]
  },
  {
   "cell_type": "code",
   "execution_count": 2,
   "metadata": {},
   "outputs": [
    {
     "name": "stdout",
     "output_type": "stream",
     "text": [
      "11\n"
     ]
    }
   ],
   "source": [
    "f1 = lambda a,b: a + b\n",
    "print(f1(5,6))"
   ]
  },
  {
   "cell_type": "markdown",
   "metadata": {},
   "source": [
    "## functions that work with lambda\n",
    "1. filter() - create new list from existing list acc to condition\n",
    "2. map() - transforms all elements \n",
    "3. reduce() - reduces the list into a single argument, like min, max, avg etc [import functools]"
   ]
  },
  {
   "cell_type": "code",
   "execution_count": 3,
   "metadata": {},
   "outputs": [
    {
     "name": "stdout",
     "output_type": "stream",
     "text": [
      "[1, 2]\n",
      "[10, 20, 30, 40, 50, 60, 70, 80, 90]\n",
      "45\n"
     ]
    }
   ],
   "source": [
    "l = range(1, 10)\n",
    "l2 = filter(lambda a: a < 3, l)\n",
    "print(list(l2))\n",
    "\n",
    "l3 = map(lambda a: a * 10, l)\n",
    "print(list(l3))\n",
    "\n",
    "from functools import *\n",
    "l4 = reduce(lambda a,b:a+b, l)\n",
    "print(l4)"
   ]
  },
  {
   "cell_type": "code",
   "execution_count": 17,
   "metadata": {},
   "outputs": [
    {
     "name": "stdin",
     "output_type": "stream",
     "text": [
      "enter number of samples 10\n"
     ]
    },
    {
     "name": "stdout",
     "output_type": "stream",
     "text": [
      "[5, 3, 7, 8, 5, 8, 6, 6, 4, 5]\n",
      "[8, 8, 6, 6, 4]\n",
      "[5, 3, 7, 5, 5]\n",
      "[25, 9, 49, 64, 25, 64, 36, 36, 16, 25]\n",
      "1\n",
      "9\n"
     ]
    }
   ],
   "source": [
    "import random\n",
    "n = int(input(\"enter number of samples\"))\n",
    "l1 = []\n",
    "for i in range(n):\n",
    "    l1.append(random.randint(1,10))\n",
    "\n",
    "print(l1)\n",
    "#l1 = range(1, 10)\n",
    "even = list(filter(lambda x: x % 2 == 0, l1))\n",
    "print(even)\n",
    "\n",
    "odd = list(filter(lambda x: x % 2 == 1, l1))\n",
    "print(odd)\n",
    "\n",
    "sq = list(map(lambda x: x*x, l1))\n",
    "print(sq)\n",
    "\n",
    "from functools import *\n",
    "minimum = reduce(lambda a,b: a if a < b else b, l)\n",
    "print(minimum)\n",
    "\n",
    "maximum = reduce(lambda a,b: a if a > b else b, l)\n",
    "print(maximum)"
   ]
  },
  {
   "cell_type": "markdown",
   "metadata": {},
   "source": [
    "### Assignments set 1"
   ]
  },
  {
   "cell_type": "code",
   "execution_count": 36,
   "metadata": {},
   "outputs": [
    {
     "name": "stdout",
     "output_type": "stream",
     "text": [
      "2.25\n",
      "[2, 4, 6, 8] [1, 3, 5, 7, 9]\n",
      "[1, 2, 3, 4, 5, 6, 7, 8, 9]\n",
      "[8, 64, 216, 512]\n",
      "5.0\n",
      "45\n"
     ]
    }
   ],
   "source": [
    "l = range(1, 10)\n",
    "\n",
    "#1. assignment 1\n",
    "f = lambda a, b, c, d: (a+b)*(c/d) \n",
    "x = f(1,2,3,4)\n",
    "print(x)\n",
    "\n",
    "#2. assignment 2\n",
    "even = list(filter(lambda x: x % 2 == 0, l))\n",
    "odd = list(filter(lambda x: x % 2 == 1, l))\n",
    "print(even, odd)\n",
    "\n",
    "#3. cube of even numbers \n",
    "print(list(l))\n",
    "l2 = list( map( lambda x : x**3 , list(filter(lambda x: x % 2 == 0, l))) )\n",
    "print(l2)\n",
    "\n",
    "#4 mean using lambda\n",
    "mean = lambda x: sum(x)/len(x)\n",
    "m = mean(l)\n",
    "print(m)\n",
    "\n",
    "#5. sum of n natural no\n",
    "from functools import *\n",
    "l4 = reduce(lambda a,b:a+b, l)\n",
    "print(l4)"
   ]
  },
  {
   "cell_type": "code",
   "execution_count": null,
   "metadata": {},
   "outputs": [],
   "source": []
  }
 ],
 "metadata": {
  "kernelspec": {
   "display_name": "Python 3 (ipykernel)",
   "language": "python",
   "name": "python3"
  },
  "language_info": {
   "codemirror_mode": {
    "name": "ipython",
    "version": 3
   },
   "file_extension": ".py",
   "mimetype": "text/x-python",
   "name": "python",
   "nbconvert_exporter": "python",
   "pygments_lexer": "ipython3",
   "version": "3.9.12"
  }
 },
 "nbformat": 4,
 "nbformat_minor": 4
}
